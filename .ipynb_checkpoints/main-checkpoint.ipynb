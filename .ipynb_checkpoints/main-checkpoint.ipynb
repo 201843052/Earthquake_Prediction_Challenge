{
 "cells": [
  {
   "cell_type": "code",
   "execution_count": 1,
   "id": "g_Sxqf2Gjc2q",
   "metadata": {
    "colab": {
     "base_uri": "https://localhost:8080/"
    },
    "executionInfo": {
     "elapsed": 2590,
     "status": "ok",
     "timestamp": 1647270565228,
     "user": {
      "displayName": "Josiah Suartono",
      "photoUrl": "https://lh3.googleusercontent.com/a/default-user=s64",
      "userId": "17696427710438250466"
     },
     "user_tz": 0
    },
    "id": "g_Sxqf2Gjc2q",
    "outputId": "4211b376-9f28-4a39-82c3-0cf0fa37a95a"
   },
   "outputs": [
    {
     "name": "stdout",
     "output_type": "stream",
     "text": [
      "Mounted at /content/drive\n"
     ]
    }
   ],
   "source": [
    "from google.colab import drive\n",
    "drive.mount('/content/drive', force_remount=True)\n",
    "import os\n",
    "os.chdir(\"/content/drive/MyDrive/Colab Notebooks/Practitioner's Challenge\")"
   ]
  },
  {
   "cell_type": "code",
   "execution_count": null,
   "id": "Vz9qMKBcq6kE",
   "metadata": {
    "id": "Vz9qMKBcq6kE"
   },
   "outputs": [],
   "source": [
    "!pip install obspy\n",
    "!pip install numpy==1.20.0"
   ]
  },
  {
   "cell_type": "code",
   "execution_count": 2,
   "id": "t581yGCh25Mk",
   "metadata": {
    "executionInfo": {
     "elapsed": 4324,
     "status": "ok",
     "timestamp": 1647270571268,
     "user": {
      "displayName": "Josiah Suartono",
      "photoUrl": "https://lh3.googleusercontent.com/a/default-user=s64",
      "userId": "17696427710438250466"
     },
     "user_tz": 0
    },
    "id": "t581yGCh25Mk"
   },
   "outputs": [],
   "source": [
    "import pandas as pd\n",
    "import numpy as np\n",
    "from os import listdir\n",
    "from os.path import isfile, join\n",
    "from obspy import read\n",
    "from tqdm import tqdm\n",
    "from joblib import Parallel, delayed\n",
    "import warnings\n",
    "import dask as dd\n",
    "import random\n",
    "from scipy.fftpack import dct\n",
    "from sklearn.model_selection import train_test_split\n",
    "import numpy as np\n",
    "import seaborn as sns\n",
    "import matplotlib.pyplot as plt\n",
    "from keras.models import load_model\n",
    "import keras as ks\n",
    "from keras.layers import Input, Dense,  LSTM, Flatten\n",
    "import gc\n",
    "import pandas as pd\n",
    "import tensorflow as tf\n",
    "from models.utils import focal_loss\n",
    "from sklearn.model_selection import train_test_split\n",
    "from sklearn.metrics import roc_auc_score,roc_curve\n",
    "from sklearn.utils import shuffle\n",
    "from keras import backend as K\n",
    "from sklearn.metrics import f1_score\n",
    "from tensorflow.keras.callbacks import EarlyStopping\n",
    "from tensorflow.keras.models import Sequential\n",
    "from tensorflow.keras.layers import Conv2D, MaxPooling1D, Flatten, Dropout, Dense,Conv1D"
   ]
  },
  {
   "cell_type": "markdown",
   "id": "4e386oq2cklE",
   "metadata": {
    "id": "4e386oq2cklE"
   },
   "source": [
    "# Reading Files"
   ]
  },
  {
   "cell_type": "code",
   "execution_count": 3,
   "id": "EzwN6mtE2xs5",
   "metadata": {
    "executionInfo": {
     "elapsed": 15,
     "status": "ok",
     "timestamp": 1647270571269,
     "user": {
      "displayName": "Josiah Suartono",
      "photoUrl": "https://lh3.googleusercontent.com/a/default-user=s64",
      "userId": "17696427710438250466"
     },
     "user_tz": 0
    },
    "id": "EzwN6mtE2xs5"
   },
   "outputs": [],
   "source": [
    "def identify_files_in_directory(path):\n",
    "  \"\"\"\n",
    "  Identifing all files in the given directory\n",
    "\n",
    "  :param path: String, the path\n",
    "  :return: list, list of all objects in the given path\n",
    "  \"\"\"\n",
    "  return [f for f in listdir(path) if isfile(join(path, f))]"
   ]
  },
  {
   "cell_type": "code",
   "execution_count": 4,
   "id": "d31u9dOk27hi",
   "metadata": {
    "executionInfo": {
     "elapsed": 128169,
     "status": "ok",
     "timestamp": 1647270699779,
     "user": {
      "displayName": "Josiah Suartono",
      "photoUrl": "https://lh3.googleusercontent.com/a/default-user=s64",
      "userId": "17696427710438250466"
     },
     "user_tz": 0
    },
    "id": "d31u9dOk27hi"
   },
   "outputs": [],
   "source": [
    "signal_paths = identify_files_in_directory(\"./data/signal\")\n",
    "noise_paths = identify_files_in_directory(\"./data/noise\")"
   ]
  },
  {
   "cell_type": "code",
   "execution_count": 5,
   "id": "kIYCOE0g3R0D",
   "metadata": {
    "executionInfo": {
     "elapsed": 12,
     "status": "ok",
     "timestamp": 1647270699779,
     "user": {
      "displayName": "Josiah Suartono",
      "photoUrl": "https://lh3.googleusercontent.com/a/default-user=s64",
      "userId": "17696427710438250466"
     },
     "user_tz": 0
    },
    "id": "kIYCOE0g3R0D"
   },
   "outputs": [],
   "source": [
    "def read_data_from_disk(path, files):\n",
    "  \"\"\"\n",
    "  This functions aims to read all the given data from the files list into memory\n",
    "\n",
    "  :param files: string, the path towards the data\n",
    "  :param files: list, list of objects to read in\n",
    "  :return: Array containing the data\n",
    "  \"\"\"\n",
    "\n",
    "  # set variables\n",
    "  random.seed(0)\n",
    "  p_win = (.5, 3) # setting limits for P-wave \n",
    "  sampling_rate = 31.25\n",
    "  min_snr = 1.5\n",
    "\n",
    "  all_raw_data = []\n",
    "  all_correct_answer = []\n",
    "  pwave_index = []\n",
    "  for i in tqdm(files):\n",
    "      st = read(f'{path}/{i}')\n",
    "      # cut = int((random.random()*1000)) # change to [0,1000]\n",
    "      cut = int((random.random()*p_win[1]+p_win[0])*sampling_rate)\n",
    "\n",
    "      for tr in st:\n",
    "        snr = sum(abs(tr.data[1000:1032]))/sum(abs(tr.data[1000-32:1000]))\n",
    "        if \"_P\" in i and snr<=min_snr:\n",
    "          print(\"  Channel: {}, passing, not high-enough P wave S/N ratio ({:4.2f})\".format(tr.stats.channel, snr))      \n",
    "        \n",
    "        # otherwise do everything\n",
    "        else:\n",
    "            tr.data = tr.data[cut:1000+cut]\n",
    "            all_raw_data.append(tr)\n",
    "            # set correct answers\n",
    "            if \"_N\" in i:\n",
    "                # if it is a noise segment, the correct answer is None\n",
    "                correct_answer = None\n",
    "                pwave_ix = None\n",
    "            else:\n",
    "                # if it is a p-wave segment, the correct answer is the p-wave arrival time (UTCDateTime format)\n",
    "                correct_answer = tr.stats.starttime + (1000-cut)/tr.stats.sampling_rate\n",
    "                pwave_ix = int(1000-cut)\n",
    "            all_correct_answer.append(correct_answer)\n",
    "            pwave_index.append(pwave_ix)\n",
    "\n",
    "      del st\n",
    "  all_correct_answer = np.array(all_correct_answer)\n",
    "  return all_raw_data, all_correct_answer, pwave_index"
   ]
  },
  {
   "cell_type": "code",
   "execution_count": 6,
   "id": "q7DvfmHt4BOw",
   "metadata": {
    "executionInfo": {
     "elapsed": 10,
     "status": "ok",
     "timestamp": 1647270699780,
     "user": {
      "displayName": "Josiah Suartono",
      "photoUrl": "https://lh3.googleusercontent.com/a/default-user=s64",
      "userId": "17696427710438250466"
     },
     "user_tz": 0
    },
    "id": "q7DvfmHt4BOw"
   },
   "outputs": [],
   "source": [
    "short_noise_paths = noise_paths[9000:10000]\n",
    "short_signal_paths = signal_paths"
   ]
  },
  {
   "cell_type": "code",
   "execution_count": 7,
   "id": "tCNsD8h63VsH",
   "metadata": {
    "colab": {
     "base_uri": "https://localhost:8080/"
    },
    "executionInfo": {
     "elapsed": 406754,
     "status": "ok",
     "timestamp": 1647271106524,
     "user": {
      "displayName": "Josiah Suartono",
      "photoUrl": "https://lh3.googleusercontent.com/a/default-user=s64",
      "userId": "17696427710438250466"
     },
     "user_tz": 0
    },
    "id": "tCNsD8h63VsH",
    "outputId": "9e8f5bcf-b70e-45e8-b733-63aea2621449"
   },
   "outputs": [
    {
     "name": "stderr",
     "output_type": "stream",
     "text": [
      "  0%|          | 4/1223 [00:01<09:29,  2.14it/s]"
     ]
    },
    {
     "name": "stdout",
     "output_type": "stream",
     "text": [
      "  Channel: BHY, passing, not high-enough P wave S/N ratio (1.46)\n"
     ]
    },
    {
     "name": "stderr",
     "output_type": "stream",
     "text": [
      "  1%|          | 7/1223 [00:03<08:12,  2.47it/s]"
     ]
    },
    {
     "name": "stdout",
     "output_type": "stream",
     "text": [
      "  Channel: BHY, passing, not high-enough P wave S/N ratio (1.40)\n"
     ]
    },
    {
     "name": "stderr",
     "output_type": "stream",
     "text": [
      "  1%|          | 9/1223 [00:03<07:45,  2.61it/s]"
     ]
    },
    {
     "name": "stdout",
     "output_type": "stream",
     "text": [
      "  Channel: BHZ, passing, not high-enough P wave S/N ratio (1.25)\n",
      "  Channel: BHY, passing, not high-enough P wave S/N ratio (1.20)\n"
     ]
    },
    {
     "name": "stderr",
     "output_type": "stream",
     "text": [
      "  2%|▏         | 22/1223 [00:11<08:20,  2.40it/s]"
     ]
    },
    {
     "name": "stdout",
     "output_type": "stream",
     "text": [
      "  Channel: BHZ, passing, not high-enough P wave S/N ratio (1.10)\n",
      "  Channel: BHX, passing, not high-enough P wave S/N ratio (1.31)\n",
      "  Channel: BHY, passing, not high-enough P wave S/N ratio (1.21)\n",
      "  Channel: BHY, passing, not high-enough P wave S/N ratio (1.42)\n"
     ]
    },
    {
     "name": "stderr",
     "output_type": "stream",
     "text": [
      "  3%|▎         | 34/1223 [00:12<02:43,  7.29it/s]"
     ]
    },
    {
     "name": "stdout",
     "output_type": "stream",
     "text": [
      "  Channel: BHY, passing, not high-enough P wave S/N ratio (1.31)\n",
      "  Channel: BHZ, passing, not high-enough P wave S/N ratio (1.20)\n",
      "  Channel: BHX, passing, not high-enough P wave S/N ratio (0.63)\n",
      "  Channel: BHZ, passing, not high-enough P wave S/N ratio (1.27)\n",
      "  Channel: BHY, passing, not high-enough P wave S/N ratio (1.38)\n",
      "  Channel: BHZ, passing, not high-enough P wave S/N ratio (1.39)\n",
      "  Channel: BHY, passing, not high-enough P wave S/N ratio (1.21)\n",
      "  Channel: BHZ, passing, not high-enough P wave S/N ratio (1.11)\n",
      "  Channel: BHZ, passing, not high-enough P wave S/N ratio (0.93)\n",
      "  Channel: BHX, passing, not high-enough P wave S/N ratio (1.45)\n",
      "  Channel: BHX, passing, not high-enough P wave S/N ratio (1.13)\n",
      "  Channel: BHY, passing, not high-enough P wave S/N ratio (1.24)\n",
      "  Channel: BHZ, passing, not high-enough P wave S/N ratio (1.18)\n"
     ]
    },
    {
     "name": "stderr",
     "output_type": "stream",
     "text": [
      "  6%|▌         | 73/1223 [00:12<00:32, 35.11it/s]"
     ]
    },
    {
     "name": "stdout",
     "output_type": "stream",
     "text": [
      "  Channel: BHZ, passing, not high-enough P wave S/N ratio (1.36)\n",
      "  Channel: BHY, passing, not high-enough P wave S/N ratio (1.33)\n",
      "  Channel: BHZ, passing, not high-enough P wave S/N ratio (1.09)\n",
      "  Channel: BHZ, passing, not high-enough P wave S/N ratio (1.39)\n",
      "  Channel: BHZ, passing, not high-enough P wave S/N ratio (1.20)\n",
      "  Channel: BHZ, passing, not high-enough P wave S/N ratio (1.27)\n",
      "  Channel: BHZ, passing, not high-enough P wave S/N ratio (1.12)\n",
      "  Channel: BHZ, passing, not high-enough P wave S/N ratio (1.35)\n",
      "  Channel: BHZ, passing, not high-enough P wave S/N ratio (1.46)\n",
      "  Channel: BHX, passing, not high-enough P wave S/N ratio (1.23)\n",
      "  Channel: BHZ, passing, not high-enough P wave S/N ratio (1.21)\n",
      "  Channel: BHZ, passing, not high-enough P wave S/N ratio (0.98)\n",
      "  Channel: BHZ, passing, not high-enough P wave S/N ratio (1.33)\n",
      "  Channel: BHY, passing, not high-enough P wave S/N ratio (0.92)\n"
     ]
    },
    {
     "name": "stderr",
     "output_type": "stream",
     "text": [
      "  8%|▊         | 97/1223 [00:12<00:19, 57.48it/s]"
     ]
    },
    {
     "name": "stdout",
     "output_type": "stream",
     "text": [
      "  Channel: BHZ, passing, not high-enough P wave S/N ratio (0.99)\n",
      "  Channel: BHY, passing, not high-enough P wave S/N ratio (1.27)\n",
      "  Channel: BHZ, passing, not high-enough P wave S/N ratio (1.04)\n",
      "  Channel: BHZ, passing, not high-enough P wave S/N ratio (1.35)\n",
      "  Channel: BHZ, passing, not high-enough P wave S/N ratio (1.34)\n",
      "  Channel: BHY, passing, not high-enough P wave S/N ratio (1.03)\n",
      "  Channel: BHZ, passing, not high-enough P wave S/N ratio (1.31)\n",
      "  Channel: BHX, passing, not high-enough P wave S/N ratio (1.01)\n",
      "  Channel: BHY, passing, not high-enough P wave S/N ratio (1.26)\n",
      "  Channel: BHZ, passing, not high-enough P wave S/N ratio (1.49)\n",
      "  Channel: BHY, passing, not high-enough P wave S/N ratio (1.19)\n",
      "  Channel: BHZ, passing, not high-enough P wave S/N ratio (0.89)\n"
     ]
    },
    {
     "name": "stderr",
     "output_type": "stream",
     "text": [
      " 10%|█         | 124/1223 [00:12<00:13, 83.94it/s]"
     ]
    },
    {
     "name": "stdout",
     "output_type": "stream",
     "text": [
      "  Channel: BHX, passing, not high-enough P wave S/N ratio (1.14)\n",
      "  Channel: BHZ, passing, not high-enough P wave S/N ratio (1.06)\n",
      "  Channel: BHZ, passing, not high-enough P wave S/N ratio (1.21)\n",
      "  Channel: BHY, passing, not high-enough P wave S/N ratio (0.98)\n",
      "  Channel: BHZ, passing, not high-enough P wave S/N ratio (1.39)\n",
      "  Channel: BHZ, passing, not high-enough P wave S/N ratio (1.48)\n",
      "  Channel: BHX, passing, not high-enough P wave S/N ratio (1.38)\n",
      "  Channel: BHZ, passing, not high-enough P wave S/N ratio (1.49)\n",
      "  Channel: BHY, passing, not high-enough P wave S/N ratio (1.39)\n",
      "  Channel: BHZ, passing, not high-enough P wave S/N ratio (1.50)\n",
      "  Channel: BHZ, passing, not high-enough P wave S/N ratio (1.09)\n",
      "  Channel: BHY, passing, not high-enough P wave S/N ratio (1.45)\n",
      "  Channel: BHZ, passing, not high-enough P wave S/N ratio (1.27)\n"
     ]
    },
    {
     "name": "stderr",
     "output_type": "stream",
     "text": [
      " 12%|█▏        | 151/1223 [00:13<00:10, 104.88it/s]"
     ]
    },
    {
     "name": "stdout",
     "output_type": "stream",
     "text": [
      "  Channel: BHZ, passing, not high-enough P wave S/N ratio (1.00)\n",
      "  Channel: BHY, passing, not high-enough P wave S/N ratio (1.15)\n",
      "  Channel: BHZ, passing, not high-enough P wave S/N ratio (1.12)\n",
      "  Channel: BHZ, passing, not high-enough P wave S/N ratio (1.24)\n",
      "  Channel: BHZ, passing, not high-enough P wave S/N ratio (1.03)\n",
      "  Channel: BHZ, passing, not high-enough P wave S/N ratio (0.96)\n",
      "  Channel: BHZ, passing, not high-enough P wave S/N ratio (1.15)\n",
      "  Channel: BHZ, passing, not high-enough P wave S/N ratio (0.91)\n",
      "  Channel: BHZ, passing, not high-enough P wave S/N ratio (1.21)\n",
      "  Channel: BHZ, passing, not high-enough P wave S/N ratio (1.40)\n",
      "  Channel: BHX, passing, not high-enough P wave S/N ratio (1.11)\n"
     ]
    },
    {
     "name": "stderr",
     "output_type": "stream",
     "text": [
      " 14%|█▍        | 177/1223 [00:13<00:09, 110.92it/s]"
     ]
    },
    {
     "name": "stdout",
     "output_type": "stream",
     "text": [
      "  Channel: BHZ, passing, not high-enough P wave S/N ratio (1.19)\n",
      "  Channel: BHY, passing, not high-enough P wave S/N ratio (1.48)\n",
      "  Channel: BHZ, passing, not high-enough P wave S/N ratio (0.79)\n",
      "  Channel: BHZ, passing, not high-enough P wave S/N ratio (1.18)\n",
      "  Channel: BHZ, passing, not high-enough P wave S/N ratio (1.37)\n",
      "  Channel: BHY, passing, not high-enough P wave S/N ratio (1.26)\n",
      "  Channel: BHZ, passing, not high-enough P wave S/N ratio (1.15)\n",
      "  Channel: BHX, passing, not high-enough P wave S/N ratio (0.76)\n",
      "  Channel: BHX, passing, not high-enough P wave S/N ratio (1.14)\n",
      "  Channel: BHZ, passing, not high-enough P wave S/N ratio (1.07)\n",
      "  Channel: BHX, passing, not high-enough P wave S/N ratio (1.23)\n",
      "  Channel: BHZ, passing, not high-enough P wave S/N ratio (1.45)\n",
      "  Channel: BHZ, passing, not high-enough P wave S/N ratio (1.14)\n",
      "  Channel: BHZ, passing, not high-enough P wave S/N ratio (1.21)\n",
      "  Channel: BHY, passing, not high-enough P wave S/N ratio (1.48)\n"
     ]
    },
    {
     "name": "stderr",
     "output_type": "stream",
     "text": [
      " 17%|█▋        | 202/1223 [00:13<00:09, 111.33it/s]"
     ]
    },
    {
     "name": "stdout",
     "output_type": "stream",
     "text": [
      "  Channel: BHZ, passing, not high-enough P wave S/N ratio (0.88)\n",
      "  Channel: BHX, passing, not high-enough P wave S/N ratio (0.90)\n",
      "  Channel: BHZ, passing, not high-enough P wave S/N ratio (1.06)\n",
      "  Channel: BHX, passing, not high-enough P wave S/N ratio (1.05)\n",
      "  Channel: BHZ, passing, not high-enough P wave S/N ratio (1.15)\n",
      "  Channel: BHZ, passing, not high-enough P wave S/N ratio (1.47)\n",
      "  Channel: BHY, passing, not high-enough P wave S/N ratio (1.43)\n",
      "  Channel: BHZ, passing, not high-enough P wave S/N ratio (1.10)\n",
      "  Channel: BHY, passing, not high-enough P wave S/N ratio (1.12)\n"
     ]
    },
    {
     "name": "stderr",
     "output_type": "stream",
     "text": [
      "\r",
      " 17%|█▋        | 214/1223 [00:13<00:09, 112.01it/s]"
     ]
    },
    {
     "name": "stdout",
     "output_type": "stream",
     "text": [
      "  Channel: BHZ, passing, not high-enough P wave S/N ratio (1.47)\n"
     ]
    },
    {
     "name": "stderr",
     "output_type": "stream",
     "text": [
      " 20%|█▉        | 240/1223 [00:14<00:10, 94.67it/s]"
     ]
    },
    {
     "name": "stdout",
     "output_type": "stream",
     "text": [
      "  Channel: BHZ, passing, not high-enough P wave S/N ratio (1.49)\n",
      "  Channel: BHZ, passing, not high-enough P wave S/N ratio (1.18)\n",
      "  Channel: BHZ, passing, not high-enough P wave S/N ratio (1.17)\n",
      "  Channel: BHY, passing, not high-enough P wave S/N ratio (1.12)\n",
      "  Channel: BHZ, passing, not high-enough P wave S/N ratio (1.29)\n",
      "  Channel: BHZ, passing, not high-enough P wave S/N ratio (1.47)\n",
      "  Channel: BHX, passing, not high-enough P wave S/N ratio (0.85)\n",
      "  Channel: BHY, passing, not high-enough P wave S/N ratio (1.32)\n",
      "  Channel: BHY, passing, not high-enough P wave S/N ratio (1.26)\n",
      "  Channel: BHZ, passing, not high-enough P wave S/N ratio (1.05)\n",
      "  Channel: BHZ, passing, not high-enough P wave S/N ratio (1.14)\n",
      "  Channel: BHZ, passing, not high-enough P wave S/N ratio (1.24)\n",
      "  Channel: BHY, passing, not high-enough P wave S/N ratio (1.37)\n",
      "  Channel: BHZ, passing, not high-enough P wave S/N ratio (1.07)\n",
      "  Channel: BHX, passing, not high-enough P wave S/N ratio (1.38)\n",
      "  Channel: BHY, passing, not high-enough P wave S/N ratio (1.24)\n"
     ]
    },
    {
     "name": "stderr",
     "output_type": "stream",
     "text": [
      " 22%|██▏       | 268/1223 [00:14<00:08, 112.81it/s]"
     ]
    },
    {
     "name": "stdout",
     "output_type": "stream",
     "text": [
      "  Channel: BHZ, passing, not high-enough P wave S/N ratio (1.46)\n",
      "  Channel: BHZ, passing, not high-enough P wave S/N ratio (1.43)\n",
      "  Channel: BHZ, passing, not high-enough P wave S/N ratio (1.29)\n",
      "  Channel: BHZ, passing, not high-enough P wave S/N ratio (1.08)\n",
      "  Channel: BHY, passing, not high-enough P wave S/N ratio (1.45)\n",
      "  Channel: BHX, passing, not high-enough P wave S/N ratio (1.37)\n",
      "  Channel: BHX, passing, not high-enough P wave S/N ratio (1.07)\n",
      "  Channel: BHY, passing, not high-enough P wave S/N ratio (1.44)\n"
     ]
    },
    {
     "name": "stderr",
     "output_type": "stream",
     "text": [
      " 24%|██▍       | 295/1223 [00:14<00:07, 120.67it/s]"
     ]
    },
    {
     "name": "stdout",
     "output_type": "stream",
     "text": [
      "  Channel: BHX, passing, not high-enough P wave S/N ratio (1.26)\n",
      "  Channel: BHZ, passing, not high-enough P wave S/N ratio (1.27)\n",
      "  Channel: BHZ, passing, not high-enough P wave S/N ratio (1.24)\n",
      "  Channel: BHZ, passing, not high-enough P wave S/N ratio (1.43)\n"
     ]
    },
    {
     "name": "stderr",
     "output_type": "stream",
     "text": [
      " 27%|██▋       | 335/1223 [00:14<00:07, 126.13it/s]"
     ]
    },
    {
     "name": "stdout",
     "output_type": "stream",
     "text": [
      "  Channel: BHZ, passing, not high-enough P wave S/N ratio (1.07)\n",
      "  Channel: BHY, passing, not high-enough P wave S/N ratio (1.19)\n",
      "  Channel: BHY, passing, not high-enough P wave S/N ratio (1.46)\n",
      "  Channel: BHZ, passing, not high-enough P wave S/N ratio (1.09)\n",
      "  Channel: BHY, passing, not high-enough P wave S/N ratio (0.89)\n",
      "  Channel: BHZ, passing, not high-enough P wave S/N ratio (1.16)\n",
      "  Channel: BHZ, passing, not high-enough P wave S/N ratio (1.42)\n",
      "  Channel: BHZ, passing, not high-enough P wave S/N ratio (1.40)\n",
      "  Channel: BHY, passing, not high-enough P wave S/N ratio (1.49)\n",
      "  Channel: BHY, passing, not high-enough P wave S/N ratio (1.31)\n",
      "  Channel: BHZ, passing, not high-enough P wave S/N ratio (0.97)\n",
      "  Channel: BHY, passing, not high-enough P wave S/N ratio (1.41)\n"
     ]
    },
    {
     "name": "stderr",
     "output_type": "stream",
     "text": [
      " 30%|██▉       | 363/1223 [00:14<00:06, 130.00it/s]"
     ]
    },
    {
     "name": "stdout",
     "output_type": "stream",
     "text": [
      "  Channel: BHZ, passing, not high-enough P wave S/N ratio (1.23)\n",
      "  Channel: BHY, passing, not high-enough P wave S/N ratio (1.42)\n",
      "  Channel: BHZ, passing, not high-enough P wave S/N ratio (1.07)\n",
      "  Channel: BHZ, passing, not high-enough P wave S/N ratio (1.32)\n",
      "  Channel: BHZ, passing, not high-enough P wave S/N ratio (1.44)\n",
      "  Channel: BHY, passing, not high-enough P wave S/N ratio (1.43)\n",
      "  Channel: BHY, passing, not high-enough P wave S/N ratio (1.24)\n",
      "  Channel: BHZ, passing, not high-enough P wave S/N ratio (1.28)\n",
      "  Channel: BHZ, passing, not high-enough P wave S/N ratio (1.36)\n",
      "  Channel: BHZ, passing, not high-enough P wave S/N ratio (0.82)\n",
      "  Channel: BHZ, passing, not high-enough P wave S/N ratio (1.05)\n",
      "  Channel: BHY, passing, not high-enough P wave S/N ratio (1.22)\n",
      "  Channel: BHZ, passing, not high-enough P wave S/N ratio (1.23)\n"
     ]
    },
    {
     "name": "stderr",
     "output_type": "stream",
     "text": [
      " 32%|███▏      | 391/1223 [00:15<00:06, 127.37it/s]"
     ]
    },
    {
     "name": "stdout",
     "output_type": "stream",
     "text": [
      "  Channel: BHY, passing, not high-enough P wave S/N ratio (1.32)\n",
      "  Channel: BHZ, passing, not high-enough P wave S/N ratio (1.13)\n",
      "  Channel: BHZ, passing, not high-enough P wave S/N ratio (1.48)\n",
      "  Channel: BHZ, passing, not high-enough P wave S/N ratio (1.31)\n",
      "  Channel: BHZ, passing, not high-enough P wave S/N ratio (1.39)\n",
      "  Channel: BHY, passing, not high-enough P wave S/N ratio (1.35)\n",
      "  Channel: BHZ, passing, not high-enough P wave S/N ratio (1.11)\n",
      "  Channel: BHY, passing, not high-enough P wave S/N ratio (1.28)\n",
      "  Channel: BHZ, passing, not high-enough P wave S/N ratio (0.96)\n",
      "  Channel: BHY, passing, not high-enough P wave S/N ratio (1.30)\n"
     ]
    },
    {
     "name": "stderr",
     "output_type": "stream",
     "text": [
      " 34%|███▍      | 417/1223 [00:15<00:06, 126.53it/s]"
     ]
    },
    {
     "name": "stdout",
     "output_type": "stream",
     "text": [
      "  Channel: BHX, passing, not high-enough P wave S/N ratio (1.19)\n",
      "  Channel: BHZ, passing, not high-enough P wave S/N ratio (1.32)\n",
      "  Channel: BHZ, passing, not high-enough P wave S/N ratio (1.06)\n",
      "  Channel: BHY, passing, not high-enough P wave S/N ratio (1.37)\n",
      "  Channel: BHZ, passing, not high-enough P wave S/N ratio (0.98)\n",
      "  Channel: BHY, passing, not high-enough P wave S/N ratio (1.20)\n",
      "  Channel: BHZ, passing, not high-enough P wave S/N ratio (0.91)\n",
      "  Channel: BHZ, passing, not high-enough P wave S/N ratio (1.26)\n",
      "  Channel: BHX, passing, not high-enough P wave S/N ratio (1.21)\n",
      "  Channel: BHZ, passing, not high-enough P wave S/N ratio (1.27)\n",
      "  Channel: BHZ, passing, not high-enough P wave S/N ratio (1.17)\n",
      "  Channel: BHY, passing, not high-enough P wave S/N ratio (1.18)\n",
      "  Channel: BHZ, passing, not high-enough P wave S/N ratio (0.68)\n"
     ]
    },
    {
     "name": "stderr",
     "output_type": "stream",
     "text": [
      " 36%|███▋      | 444/1223 [00:15<00:06, 128.11it/s]"
     ]
    },
    {
     "name": "stdout",
     "output_type": "stream",
     "text": [
      "  Channel: BHZ, passing, not high-enough P wave S/N ratio (1.41)\n",
      "  Channel: BHY, passing, not high-enough P wave S/N ratio (1.27)\n",
      "  Channel: BHX, passing, not high-enough P wave S/N ratio (1.03)\n",
      "  Channel: BHZ, passing, not high-enough P wave S/N ratio (1.11)\n",
      "  Channel: BHZ, passing, not high-enough P wave S/N ratio (1.27)\n",
      "  Channel: BHY, passing, not high-enough P wave S/N ratio (1.46)\n",
      "  Channel: BHZ, passing, not high-enough P wave S/N ratio (1.50)\n",
      "  Channel: BHY, passing, not high-enough P wave S/N ratio (1.45)\n",
      "  Channel: BHZ, passing, not high-enough P wave S/N ratio (1.21)\n"
     ]
    },
    {
     "name": "stderr",
     "output_type": "stream",
     "text": [
      " 39%|███▊      | 471/1223 [00:15<00:05, 127.87it/s]"
     ]
    },
    {
     "name": "stdout",
     "output_type": "stream",
     "text": [
      "  Channel: BHZ, passing, not high-enough P wave S/N ratio (1.46)\n",
      "  Channel: BHX, passing, not high-enough P wave S/N ratio (1.05)\n",
      "  Channel: BHZ, passing, not high-enough P wave S/N ratio (1.32)\n",
      "  Channel: BHY, passing, not high-enough P wave S/N ratio (1.32)\n",
      "  Channel: BHZ, passing, not high-enough P wave S/N ratio (0.83)\n",
      "  Channel: BHZ, passing, not high-enough P wave S/N ratio (1.38)\n",
      "  Channel: BHZ, passing, not high-enough P wave S/N ratio (1.12)\n"
     ]
    },
    {
     "name": "stderr",
     "output_type": "stream",
     "text": [
      " 41%|████      | 497/1223 [00:16<00:05, 127.89it/s]"
     ]
    },
    {
     "name": "stdout",
     "output_type": "stream",
     "text": [
      "  Channel: BHY, passing, not high-enough P wave S/N ratio (1.46)\n",
      "  Channel: BHZ, passing, not high-enough P wave S/N ratio (1.41)\n",
      "  Channel: BHX, passing, not high-enough P wave S/N ratio (1.11)\n",
      "  Channel: BHZ, passing, not high-enough P wave S/N ratio (0.82)\n",
      "  Channel: BHZ, passing, not high-enough P wave S/N ratio (1.08)\n",
      "  Channel: BHY, passing, not high-enough P wave S/N ratio (1.04)\n",
      "  Channel: BHZ, passing, not high-enough P wave S/N ratio (1.36)\n",
      "  Channel: BHY, passing, not high-enough P wave S/N ratio (1.39)\n",
      "  Channel: BHZ, passing, not high-enough P wave S/N ratio (1.19)\n",
      "  Channel: BHY, passing, not high-enough P wave S/N ratio (1.47)\n",
      "  Channel: BHZ, passing, not high-enough P wave S/N ratio (1.30)\n",
      "  Channel: BHZ, passing, not high-enough P wave S/N ratio (1.36)\n",
      "  Channel: BHZ, passing, not high-enough P wave S/N ratio (1.16)\n",
      "  Channel: BHX, passing, not high-enough P wave S/N ratio (1.09)\n"
     ]
    },
    {
     "name": "stderr",
     "output_type": "stream",
     "text": [
      " 43%|████▎     | 523/1223 [00:16<00:05, 125.88it/s]"
     ]
    },
    {
     "name": "stdout",
     "output_type": "stream",
     "text": [
      "  Channel: BHX, passing, not high-enough P wave S/N ratio (1.41)\n",
      "  Channel: BHX, passing, not high-enough P wave S/N ratio (1.33)\n",
      "  Channel: BHZ, passing, not high-enough P wave S/N ratio (1.09)\n",
      "  Channel: BHZ, passing, not high-enough P wave S/N ratio (1.47)\n",
      "  Channel: BHY, passing, not high-enough P wave S/N ratio (1.38)\n",
      "  Channel: BHZ, passing, not high-enough P wave S/N ratio (0.93)\n",
      "  Channel: BHY, passing, not high-enough P wave S/N ratio (1.15)\n",
      "  Channel: BHZ, passing, not high-enough P wave S/N ratio (0.75)\n",
      "  Channel: BHZ, passing, not high-enough P wave S/N ratio (1.18)\n",
      "  Channel: BHZ, passing, not high-enough P wave S/N ratio (1.23)\n",
      "  Channel: BHX, passing, not high-enough P wave S/N ratio (1.32)\n",
      "  Channel: BHZ, passing, not high-enough P wave S/N ratio (1.34)\n"
     ]
    },
    {
     "name": "stderr",
     "output_type": "stream",
     "text": [
      " 45%|████▍     | 549/1223 [00:16<00:05, 126.18it/s]"
     ]
    },
    {
     "name": "stdout",
     "output_type": "stream",
     "text": [
      "  Channel: BHZ, passing, not high-enough P wave S/N ratio (1.29)\n",
      "  Channel: BHX, passing, not high-enough P wave S/N ratio (1.49)\n",
      "  Channel: BHZ, passing, not high-enough P wave S/N ratio (0.85)\n",
      "  Channel: BHY, passing, not high-enough P wave S/N ratio (1.24)\n",
      "  Channel: BHZ, passing, not high-enough P wave S/N ratio (0.85)\n",
      "  Channel: BHX, passing, not high-enough P wave S/N ratio (1.45)\n",
      "  Channel: BHZ, passing, not high-enough P wave S/N ratio (1.17)\n",
      "  Channel: BHY, passing, not high-enough P wave S/N ratio (1.07)\n",
      "  Channel: BHZ, passing, not high-enough P wave S/N ratio (1.07)\n",
      "  Channel: BHY, passing, not high-enough P wave S/N ratio (1.32)\n",
      "  Channel: BHZ, passing, not high-enough P wave S/N ratio (1.33)\n"
     ]
    },
    {
     "name": "stderr",
     "output_type": "stream",
     "text": [
      " 47%|████▋     | 575/1223 [00:16<00:05, 122.81it/s]"
     ]
    },
    {
     "name": "stdout",
     "output_type": "stream",
     "text": [
      "  Channel: BHZ, passing, not high-enough P wave S/N ratio (0.87)\n",
      "  Channel: BHY, passing, not high-enough P wave S/N ratio (1.23)\n",
      "  Channel: BHZ, passing, not high-enough P wave S/N ratio (1.21)\n",
      "  Channel: BHX, passing, not high-enough P wave S/N ratio (1.13)\n",
      "  Channel: BHZ, passing, not high-enough P wave S/N ratio (1.35)\n",
      "  Channel: BHZ, passing, not high-enough P wave S/N ratio (1.30)\n",
      "  Channel: BHY, passing, not high-enough P wave S/N ratio (1.32)\n",
      "  Channel: BHZ, passing, not high-enough P wave S/N ratio (1.37)\n",
      "  Channel: BHY, passing, not high-enough P wave S/N ratio (1.02)\n",
      "  Channel: BHZ, passing, not high-enough P wave S/N ratio (1.29)\n",
      "  Channel: BHX, passing, not high-enough P wave S/N ratio (1.13)\n",
      "  Channel: BHZ, passing, not high-enough P wave S/N ratio (1.19)\n",
      "  Channel: BHZ, passing, not high-enough P wave S/N ratio (0.94)\n"
     ]
    },
    {
     "name": "stderr",
     "output_type": "stream",
     "text": [
      " 49%|████▉     | 601/1223 [00:16<00:05, 122.72it/s]"
     ]
    },
    {
     "name": "stdout",
     "output_type": "stream",
     "text": [
      "  Channel: BHZ, passing, not high-enough P wave S/N ratio (1.07)\n",
      "  Channel: BHZ, passing, not high-enough P wave S/N ratio (1.10)\n",
      "  Channel: BHZ, passing, not high-enough P wave S/N ratio (1.07)\n",
      "  Channel: BHZ, passing, not high-enough P wave S/N ratio (1.17)\n",
      "  Channel: BHY, passing, not high-enough P wave S/N ratio (1.32)\n"
     ]
    },
    {
     "name": "stderr",
     "output_type": "stream",
     "text": [
      " 51%|█████▏    | 628/1223 [00:17<00:04, 119.01it/s]"
     ]
    },
    {
     "name": "stdout",
     "output_type": "stream",
     "text": [
      "  Channel: BHY, passing, not high-enough P wave S/N ratio (1.13)\n",
      "  Channel: BHZ, passing, not high-enough P wave S/N ratio (1.45)\n",
      "  Channel: BHX, passing, not high-enough P wave S/N ratio (1.44)\n",
      "  Channel: BHZ, passing, not high-enough P wave S/N ratio (0.87)\n",
      "  Channel: BHY, passing, not high-enough P wave S/N ratio (0.88)\n",
      "  Channel: BHY, passing, not high-enough P wave S/N ratio (0.98)\n",
      "  Channel: BHZ, passing, not high-enough P wave S/N ratio (1.38)\n",
      "  Channel: BHZ, passing, not high-enough P wave S/N ratio (1.36)\n",
      "  Channel: BHZ, passing, not high-enough P wave S/N ratio (1.06)\n"
     ]
    },
    {
     "name": "stderr",
     "output_type": "stream",
     "text": [
      " 53%|█████▎    | 654/1223 [00:17<00:04, 121.30it/s]"
     ]
    },
    {
     "name": "stdout",
     "output_type": "stream",
     "text": [
      "  Channel: BHZ, passing, not high-enough P wave S/N ratio (0.77)\n",
      "  Channel: BHY, passing, not high-enough P wave S/N ratio (0.96)\n",
      "  Channel: BHY, passing, not high-enough P wave S/N ratio (1.39)\n",
      "  Channel: BHZ, passing, not high-enough P wave S/N ratio (1.34)\n",
      "  Channel: BHZ, passing, not high-enough P wave S/N ratio (1.48)\n",
      "  Channel: BHY, passing, not high-enough P wave S/N ratio (1.20)\n",
      "  Channel: BHZ, passing, not high-enough P wave S/N ratio (1.38)\n",
      "  Channel: BHY, passing, not high-enough P wave S/N ratio (1.16)\n",
      "  Channel: BHZ, passing, not high-enough P wave S/N ratio (0.98)\n"
     ]
    },
    {
     "name": "stderr",
     "output_type": "stream",
     "text": [
      " 56%|█████▌    | 680/1223 [00:17<00:04, 117.57it/s]"
     ]
    },
    {
     "name": "stdout",
     "output_type": "stream",
     "text": [
      "  Channel: BHZ, passing, not high-enough P wave S/N ratio (0.94)\n",
      "  Channel: BHY, passing, not high-enough P wave S/N ratio (1.39)\n",
      "  Channel: BHZ, passing, not high-enough P wave S/N ratio (1.08)\n",
      "  Channel: BHZ, passing, not high-enough P wave S/N ratio (1.35)\n",
      "  Channel: BHX, passing, not high-enough P wave S/N ratio (1.26)\n",
      "  Channel: BHZ, passing, not high-enough P wave S/N ratio (1.28)\n",
      "  Channel: BHZ, passing, not high-enough P wave S/N ratio (1.49)\n",
      "  Channel: BHZ, passing, not high-enough P wave S/N ratio (1.21)\n",
      "  Channel: BHY, passing, not high-enough P wave S/N ratio (1.36)\n",
      "  Channel: BHZ, passing, not high-enough P wave S/N ratio (1.35)\n",
      "  Channel: BHY, passing, not high-enough P wave S/N ratio (1.48)\n",
      "  Channel: BHZ, passing, not high-enough P wave S/N ratio (1.37)\n",
      "  Channel: BHZ, passing, not high-enough P wave S/N ratio (1.14)\n",
      "  Channel: BHY, passing, not high-enough P wave S/N ratio (1.00)\n"
     ]
    },
    {
     "name": "stderr",
     "output_type": "stream",
     "text": [
      "\r",
      " 57%|█████▋    | 692/1223 [00:17<00:05, 100.14it/s]"
     ]
    },
    {
     "name": "stdout",
     "output_type": "stream",
     "text": [
      "  Channel: BHX, passing, not high-enough P wave S/N ratio (0.77)\n",
      "  Channel: BHZ, passing, not high-enough P wave S/N ratio (1.23)\n",
      "  Channel: BHZ, passing, not high-enough P wave S/N ratio (1.00)\n",
      "  Channel: BHZ, passing, not high-enough P wave S/N ratio (1.25)\n",
      "  Channel: BHZ, passing, not high-enough P wave S/N ratio (1.21)\n",
      "  Channel: BHZ, passing, not high-enough P wave S/N ratio (1.33)\n",
      "  Channel: BHZ, passing, not high-enough P wave S/N ratio (1.17)\n"
     ]
    },
    {
     "name": "stderr",
     "output_type": "stream",
     "text": [
      " 59%|█████▊    | 716/1223 [00:17<00:04, 107.68it/s]"
     ]
    },
    {
     "name": "stdout",
     "output_type": "stream",
     "text": [
      "  Channel: BHX, passing, not high-enough P wave S/N ratio (1.48)\n",
      "  Channel: BHZ, passing, not high-enough P wave S/N ratio (1.31)\n",
      "  Channel: BHY, passing, not high-enough P wave S/N ratio (1.44)\n",
      "  Channel: BHZ, passing, not high-enough P wave S/N ratio (1.40)\n",
      "  Channel: BHZ, passing, not high-enough P wave S/N ratio (1.14)\n",
      "  Channel: BHZ, passing, not high-enough P wave S/N ratio (1.31)\n",
      "  Channel: BHX, passing, not high-enough P wave S/N ratio (0.92)\n",
      "  Channel: BHZ, passing, not high-enough P wave S/N ratio (1.05)\n",
      "  Channel: BHZ, passing, not high-enough P wave S/N ratio (1.22)\n"
     ]
    },
    {
     "name": "stderr",
     "output_type": "stream",
     "text": [
      " 61%|██████    | 744/1223 [00:18<00:03, 120.88it/s]"
     ]
    },
    {
     "name": "stdout",
     "output_type": "stream",
     "text": [
      "  Channel: BHZ, passing, not high-enough P wave S/N ratio (1.31)\n",
      "  Channel: BHY, passing, not high-enough P wave S/N ratio (1.23)\n",
      "  Channel: BHZ, passing, not high-enough P wave S/N ratio (1.41)\n",
      "  Channel: BHX, passing, not high-enough P wave S/N ratio (1.25)\n",
      "  Channel: BHZ, passing, not high-enough P wave S/N ratio (1.05)\n",
      "  Channel: BHZ, passing, not high-enough P wave S/N ratio (1.36)\n"
     ]
    },
    {
     "name": "stderr",
     "output_type": "stream",
     "text": [
      " 63%|██████▎   | 771/1223 [00:18<00:03, 125.05it/s]"
     ]
    },
    {
     "name": "stdout",
     "output_type": "stream",
     "text": [
      "  Channel: BHZ, passing, not high-enough P wave S/N ratio (1.29)\n",
      "  Channel: BHZ, passing, not high-enough P wave S/N ratio (1.22)\n",
      "  Channel: BHZ, passing, not high-enough P wave S/N ratio (1.47)\n",
      "  Channel: BHY, passing, not high-enough P wave S/N ratio (1.36)\n",
      "  Channel: BHZ, passing, not high-enough P wave S/N ratio (1.47)\n",
      "  Channel: BHZ, passing, not high-enough P wave S/N ratio (1.22)\n",
      "  Channel: BHY, passing, not high-enough P wave S/N ratio (1.28)\n",
      "  Channel: BHZ, passing, not high-enough P wave S/N ratio (1.39)\n"
     ]
    },
    {
     "name": "stderr",
     "output_type": "stream",
     "text": [
      " 66%|██████▋   | 813/1223 [00:18<00:03, 133.89it/s]"
     ]
    },
    {
     "name": "stdout",
     "output_type": "stream",
     "text": [
      "  Channel: BHZ, passing, not high-enough P wave S/N ratio (1.48)\n",
      "  Channel: BHZ, passing, not high-enough P wave S/N ratio (1.43)\n",
      "  Channel: BHY, passing, not high-enough P wave S/N ratio (0.98)\n",
      "  Channel: BHZ, passing, not high-enough P wave S/N ratio (1.32)\n",
      "  Channel: BHZ, passing, not high-enough P wave S/N ratio (1.16)\n",
      "  Channel: BHZ, passing, not high-enough P wave S/N ratio (1.47)\n",
      "  Channel: BHZ, passing, not high-enough P wave S/N ratio (1.27)\n",
      "  Channel: BHX, passing, not high-enough P wave S/N ratio (1.37)\n",
      "  Channel: BHZ, passing, not high-enough P wave S/N ratio (1.47)\n",
      "  Channel: BHY, passing, not high-enough P wave S/N ratio (1.23)\n",
      "  Channel: BHY, passing, not high-enough P wave S/N ratio (1.14)\n"
     ]
    },
    {
     "name": "stderr",
     "output_type": "stream",
     "text": [
      " 69%|██████▉   | 841/1223 [00:18<00:02, 132.71it/s]"
     ]
    },
    {
     "name": "stdout",
     "output_type": "stream",
     "text": [
      "  Channel: BHY, passing, not high-enough P wave S/N ratio (1.45)\n",
      "  Channel: BHZ, passing, not high-enough P wave S/N ratio (1.23)\n",
      "  Channel: BHZ, passing, not high-enough P wave S/N ratio (1.47)\n",
      "  Channel: BHY, passing, not high-enough P wave S/N ratio (1.10)\n",
      "  Channel: BHX, passing, not high-enough P wave S/N ratio (1.14)\n",
      "  Channel: BHY, passing, not high-enough P wave S/N ratio (1.39)\n"
     ]
    },
    {
     "name": "stderr",
     "output_type": "stream",
     "text": [
      " 71%|███████   | 869/1223 [00:19<00:02, 127.71it/s]"
     ]
    },
    {
     "name": "stdout",
     "output_type": "stream",
     "text": [
      "  Channel: BHY, passing, not high-enough P wave S/N ratio (1.50)\n",
      "  Channel: BHY, passing, not high-enough P wave S/N ratio (1.17)\n",
      "  Channel: BHZ, passing, not high-enough P wave S/N ratio (1.40)\n",
      "  Channel: BHZ, passing, not high-enough P wave S/N ratio (1.00)\n",
      "  Channel: BHZ, passing, not high-enough P wave S/N ratio (1.46)\n",
      "  Channel: BHZ, passing, not high-enough P wave S/N ratio (1.36)\n",
      "  Channel: BHZ, passing, not high-enough P wave S/N ratio (1.26)\n",
      "  Channel: BHY, passing, not high-enough P wave S/N ratio (1.12)\n",
      "  Channel: BHY, passing, not high-enough P wave S/N ratio (1.36)\n",
      "  Channel: BHY, passing, not high-enough P wave S/N ratio (1.00)\n"
     ]
    },
    {
     "name": "stderr",
     "output_type": "stream",
     "text": [
      " 73%|███████▎  | 895/1223 [00:19<00:02, 125.39it/s]"
     ]
    },
    {
     "name": "stdout",
     "output_type": "stream",
     "text": [
      "  Channel: BHZ, passing, not high-enough P wave S/N ratio (1.18)\n",
      "  Channel: BHY, passing, not high-enough P wave S/N ratio (1.30)\n",
      "  Channel: BHZ, passing, not high-enough P wave S/N ratio (1.46)\n",
      "  Channel: BHZ, passing, not high-enough P wave S/N ratio (1.09)\n",
      "  Channel: BHZ, passing, not high-enough P wave S/N ratio (1.40)\n",
      "  Channel: BHZ, passing, not high-enough P wave S/N ratio (1.37)\n",
      "  Channel: BHZ, passing, not high-enough P wave S/N ratio (1.04)\n",
      "  Channel: BHX, passing, not high-enough P wave S/N ratio (1.18)\n",
      "  Channel: BHZ, passing, not high-enough P wave S/N ratio (1.30)\n",
      "  Channel: BHZ, passing, not high-enough P wave S/N ratio (1.45)\n",
      "  Channel: BHX, passing, not high-enough P wave S/N ratio (0.98)\n",
      "  Channel: BHZ, passing, not high-enough P wave S/N ratio (0.80)\n",
      "  Channel: BHZ, passing, not high-enough P wave S/N ratio (1.31)\n"
     ]
    },
    {
     "name": "stderr",
     "output_type": "stream",
     "text": [
      " 75%|███████▌  | 922/1223 [00:19<00:02, 126.74it/s]"
     ]
    },
    {
     "name": "stdout",
     "output_type": "stream",
     "text": [
      "  Channel: BHZ, passing, not high-enough P wave S/N ratio (1.01)\n",
      "  Channel: BHY, passing, not high-enough P wave S/N ratio (1.37)\n",
      "  Channel: BHY, passing, not high-enough P wave S/N ratio (1.20)\n",
      "  Channel: BHZ, passing, not high-enough P wave S/N ratio (1.19)\n",
      "  Channel: BHY, passing, not high-enough P wave S/N ratio (1.40)\n",
      "  Channel: BHZ, passing, not high-enough P wave S/N ratio (1.45)\n",
      "  Channel: BHX, passing, not high-enough P wave S/N ratio (1.14)\n",
      "  Channel: BHZ, passing, not high-enough P wave S/N ratio (1.43)\n",
      "  Channel: BHZ, passing, not high-enough P wave S/N ratio (1.24)\n",
      "  Channel: BHY, passing, not high-enough P wave S/N ratio (1.16)\n",
      "  Channel: BHZ, passing, not high-enough P wave S/N ratio (1.21)\n",
      "  Channel: BHY, passing, not high-enough P wave S/N ratio (1.50)\n",
      "  Channel: BHZ, passing, not high-enough P wave S/N ratio (1.19)\n"
     ]
    },
    {
     "name": "stderr",
     "output_type": "stream",
     "text": [
      " 78%|███████▊  | 948/1223 [00:19<00:02, 125.44it/s]"
     ]
    },
    {
     "name": "stdout",
     "output_type": "stream",
     "text": [
      "  Channel: BHZ, passing, not high-enough P wave S/N ratio (1.19)\n",
      "  Channel: BHY, passing, not high-enough P wave S/N ratio (1.19)\n",
      "  Channel: BHZ, passing, not high-enough P wave S/N ratio (1.13)\n",
      "  Channel: BHZ, passing, not high-enough P wave S/N ratio (1.47)\n",
      "  Channel: BHZ, passing, not high-enough P wave S/N ratio (0.96)\n",
      "  Channel: BHX, passing, not high-enough P wave S/N ratio (1.38)\n"
     ]
    },
    {
     "name": "stderr",
     "output_type": "stream",
     "text": [
      " 80%|███████▉  | 974/1223 [00:19<00:02, 118.34it/s]"
     ]
    },
    {
     "name": "stdout",
     "output_type": "stream",
     "text": [
      "  Channel: BHZ, passing, not high-enough P wave S/N ratio (1.41)\n",
      "  Channel: BHZ, passing, not high-enough P wave S/N ratio (1.37)\n",
      "  Channel: BHX, passing, not high-enough P wave S/N ratio (1.15)\n",
      "  Channel: BHY, passing, not high-enough P wave S/N ratio (1.35)\n",
      "  Channel: BHZ, passing, not high-enough P wave S/N ratio (1.19)\n",
      "  Channel: BHY, passing, not high-enough P wave S/N ratio (1.48)\n",
      "  Channel: BHY, passing, not high-enough P wave S/N ratio (0.96)\n"
     ]
    },
    {
     "name": "stderr",
     "output_type": "stream",
     "text": [
      " 82%|████████▏ | 998/1223 [00:20<00:01, 115.57it/s]"
     ]
    },
    {
     "name": "stdout",
     "output_type": "stream",
     "text": [
      "  Channel: BHY, passing, not high-enough P wave S/N ratio (1.34)\n",
      "  Channel: BHY, passing, not high-enough P wave S/N ratio (1.13)\n",
      "  Channel: BHZ, passing, not high-enough P wave S/N ratio (1.35)\n",
      "  Channel: BHZ, passing, not high-enough P wave S/N ratio (1.41)\n",
      "  Channel: BHZ, passing, not high-enough P wave S/N ratio (1.18)\n",
      "  Channel: BHX, passing, not high-enough P wave S/N ratio (1.43)\n",
      "  Channel: BHZ, passing, not high-enough P wave S/N ratio (0.95)\n",
      "  Channel: BHZ, passing, not high-enough P wave S/N ratio (1.45)\n",
      "  Channel: BHZ, passing, not high-enough P wave S/N ratio (1.04)\n",
      "  Channel: BHY, passing, not high-enough P wave S/N ratio (1.07)\n"
     ]
    },
    {
     "name": "stderr",
     "output_type": "stream",
     "text": [
      " 84%|████████▎ | 1022/1223 [00:20<00:01, 110.25it/s]"
     ]
    },
    {
     "name": "stdout",
     "output_type": "stream",
     "text": [
      "  Channel: BHZ, passing, not high-enough P wave S/N ratio (0.84)\n",
      "  Channel: BHY, passing, not high-enough P wave S/N ratio (1.16)\n",
      "  Channel: BHZ, passing, not high-enough P wave S/N ratio (1.34)\n",
      "  Channel: BHZ, passing, not high-enough P wave S/N ratio (1.46)\n",
      "  Channel: BHZ, passing, not high-enough P wave S/N ratio (1.42)\n",
      "  Channel: BHY, passing, not high-enough P wave S/N ratio (1.49)\n",
      "  Channel: BHX, passing, not high-enough P wave S/N ratio (1.32)\n",
      "  Channel: BHZ, passing, not high-enough P wave S/N ratio (1.47)\n",
      "  Channel: BHZ, passing, not high-enough P wave S/N ratio (1.26)\n",
      "  Channel: BHY, passing, not high-enough P wave S/N ratio (1.46)\n",
      "  Channel: BHZ, passing, not high-enough P wave S/N ratio (1.43)\n",
      "  Channel: BHY, passing, not high-enough P wave S/N ratio (1.33)\n"
     ]
    },
    {
     "name": "stderr",
     "output_type": "stream",
     "text": [
      " 86%|████████▌ | 1048/1223 [00:20<00:01, 115.76it/s]"
     ]
    },
    {
     "name": "stdout",
     "output_type": "stream",
     "text": [
      "  Channel: BHY, passing, not high-enough P wave S/N ratio (1.33)\n",
      "  Channel: BHZ, passing, not high-enough P wave S/N ratio (1.20)\n",
      "  Channel: BHZ, passing, not high-enough P wave S/N ratio (1.33)\n",
      "  Channel: BHY, passing, not high-enough P wave S/N ratio (1.33)\n",
      "  Channel: BHY, passing, not high-enough P wave S/N ratio (1.32)\n"
     ]
    },
    {
     "name": "stderr",
     "output_type": "stream",
     "text": [
      " 89%|████████▉ | 1086/1223 [00:20<00:01, 122.04it/s]"
     ]
    },
    {
     "name": "stdout",
     "output_type": "stream",
     "text": [
      "  Channel: BHZ, passing, not high-enough P wave S/N ratio (1.29)\n",
      "  Channel: BHY, passing, not high-enough P wave S/N ratio (1.34)\n",
      "  Channel: BHZ, passing, not high-enough P wave S/N ratio (1.38)\n",
      "  Channel: BHZ, passing, not high-enough P wave S/N ratio (1.36)\n",
      "  Channel: BHZ, passing, not high-enough P wave S/N ratio (1.10)\n",
      "  Channel: BHY, passing, not high-enough P wave S/N ratio (1.38)\n",
      "  Channel: BHZ, passing, not high-enough P wave S/N ratio (1.10)\n",
      "  Channel: BHZ, passing, not high-enough P wave S/N ratio (1.20)\n"
     ]
    },
    {
     "name": "stderr",
     "output_type": "stream",
     "text": [
      " 91%|█████████ | 1112/1223 [00:21<00:00, 122.57it/s]"
     ]
    },
    {
     "name": "stdout",
     "output_type": "stream",
     "text": [
      "  Channel: BHZ, passing, not high-enough P wave S/N ratio (1.48)\n",
      "  Channel: BHZ, passing, not high-enough P wave S/N ratio (1.42)\n",
      "  Channel: BHZ, passing, not high-enough P wave S/N ratio (1.25)\n",
      "  Channel: BHZ, passing, not high-enough P wave S/N ratio (1.44)\n",
      "  Channel: BHX, passing, not high-enough P wave S/N ratio (1.49)\n",
      "  Channel: BHY, passing, not high-enough P wave S/N ratio (1.20)\n",
      "  Channel: BHZ, passing, not high-enough P wave S/N ratio (1.44)\n",
      "  Channel: BHZ, passing, not high-enough P wave S/N ratio (1.07)\n",
      "  Channel: BHY, passing, not high-enough P wave S/N ratio (1.02)\n",
      "  Channel: BHZ, passing, not high-enough P wave S/N ratio (1.12)\n",
      "  Channel: BHZ, passing, not high-enough P wave S/N ratio (1.32)\n",
      "  Channel: BHY, passing, not high-enough P wave S/N ratio (1.18)\n",
      "  Channel: BHZ, passing, not high-enough P wave S/N ratio (1.14)\n"
     ]
    },
    {
     "name": "stderr",
     "output_type": "stream",
     "text": [
      " 93%|█████████▎| 1138/1223 [00:21<00:00, 121.03it/s]"
     ]
    },
    {
     "name": "stdout",
     "output_type": "stream",
     "text": [
      "  Channel: BHZ, passing, not high-enough P wave S/N ratio (1.47)\n",
      "  Channel: BHY, passing, not high-enough P wave S/N ratio (1.31)\n",
      "  Channel: BHZ, passing, not high-enough P wave S/N ratio (0.98)\n",
      "  Channel: BHZ, passing, not high-enough P wave S/N ratio (1.02)\n",
      "  Channel: BHZ, passing, not high-enough P wave S/N ratio (1.42)\n",
      "  Channel: BHY, passing, not high-enough P wave S/N ratio (1.19)\n"
     ]
    },
    {
     "name": "stderr",
     "output_type": "stream",
     "text": [
      " 95%|█████████▌| 1165/1223 [00:21<00:00, 125.08it/s]"
     ]
    },
    {
     "name": "stdout",
     "output_type": "stream",
     "text": [
      "  Channel: BHY, passing, not high-enough P wave S/N ratio (1.14)\n",
      "  Channel: BHY, passing, not high-enough P wave S/N ratio (1.08)\n",
      "  Channel: BHZ, passing, not high-enough P wave S/N ratio (1.48)\n",
      "  Channel: BHZ, passing, not high-enough P wave S/N ratio (0.87)\n",
      "  Channel: BHZ, passing, not high-enough P wave S/N ratio (1.22)\n",
      "  Channel: BHX, passing, not high-enough P wave S/N ratio (1.47)\n",
      "  Channel: BHZ, passing, not high-enough P wave S/N ratio (1.24)\n",
      "  Channel: BHY, passing, not high-enough P wave S/N ratio (1.28)\n",
      "  Channel: BHZ, passing, not high-enough P wave S/N ratio (1.42)\n",
      "  Channel: BHZ, passing, not high-enough P wave S/N ratio (0.97)\n",
      "  Channel: BHX, passing, not high-enough P wave S/N ratio (1.14)\n",
      "  Channel: BHZ, passing, not high-enough P wave S/N ratio (1.16)\n",
      "  Channel: BHY, passing, not high-enough P wave S/N ratio (1.30)\n"
     ]
    },
    {
     "name": "stderr",
     "output_type": "stream",
     "text": [
      " 97%|█████████▋| 1191/1223 [00:21<00:00, 126.48it/s]"
     ]
    },
    {
     "name": "stdout",
     "output_type": "stream",
     "text": [
      "  Channel: BHY, passing, not high-enough P wave S/N ratio (1.37)\n",
      "  Channel: BHZ, passing, not high-enough P wave S/N ratio (1.43)\n",
      "  Channel: BHY, passing, not high-enough P wave S/N ratio (1.30)\n",
      "  Channel: BHZ, passing, not high-enough P wave S/N ratio (1.16)\n",
      "  Channel: BHZ, passing, not high-enough P wave S/N ratio (1.36)\n",
      "  Channel: BHZ, passing, not high-enough P wave S/N ratio (1.50)\n",
      "  Channel: BHZ, passing, not high-enough P wave S/N ratio (1.04)\n",
      "  Channel: BHY, passing, not high-enough P wave S/N ratio (0.98)\n",
      "  Channel: BHZ, passing, not high-enough P wave S/N ratio (1.41)\n",
      "  Channel: BHY, passing, not high-enough P wave S/N ratio (1.20)\n",
      "  Channel: BHZ, passing, not high-enough P wave S/N ratio (1.30)\n",
      "  Channel: BHY, passing, not high-enough P wave S/N ratio (1.25)\n",
      "  Channel: BHZ, passing, not high-enough P wave S/N ratio (1.18)\n",
      "  Channel: BHZ, passing, not high-enough P wave S/N ratio (1.09)\n"
     ]
    },
    {
     "name": "stderr",
     "output_type": "stream",
     "text": [
      "100%|██████████| 1223/1223 [00:21<00:00, 55.60it/s] \n"
     ]
    },
    {
     "name": "stdout",
     "output_type": "stream",
     "text": [
      "  Channel: BHX, passing, not high-enough P wave S/N ratio (1.43)\n",
      "  Channel: BHZ, passing, not high-enough P wave S/N ratio (0.89)\n",
      "  Channel: BHZ, passing, not high-enough P wave S/N ratio (1.40)\n",
      "  Channel: BHZ, passing, not high-enough P wave S/N ratio (1.35)\n",
      "  Channel: BHY, passing, not high-enough P wave S/N ratio (1.36)\n",
      "  Channel: BHZ, passing, not high-enough P wave S/N ratio (1.17)\n",
      "  Channel: BHY, passing, not high-enough P wave S/N ratio (1.14)\n",
      "  Channel: BHZ, passing, not high-enough P wave S/N ratio (1.34)\n",
      "  Channel: BHX, passing, not high-enough P wave S/N ratio (1.21)\n",
      "  Channel: BHY, passing, not high-enough P wave S/N ratio (0.99)\n"
     ]
    },
    {
     "name": "stderr",
     "output_type": "stream",
     "text": [
      "100%|██████████| 1000/1000 [06:24<00:00,  2.60it/s]\n"
     ]
    }
   ],
   "source": [
    "raw_data_signal, signal_target, signal_index= read_data_from_disk(\"./data/signal\",short_signal_paths)\n",
    "raw_data_noise, noise_target, noise_index = read_data_from_disk(\"./data/noise\",short_noise_paths)"
   ]
  },
  {
   "cell_type": "code",
   "execution_count": 8,
   "id": "Sx6EW0xPTCu2",
   "metadata": {
    "executionInfo": {
     "elapsed": 11,
     "status": "ok",
     "timestamp": 1647271106524,
     "user": {
      "displayName": "Josiah Suartono",
      "photoUrl": "https://lh3.googleusercontent.com/a/default-user=s64",
      "userId": "17696427710438250466"
     },
     "user_tz": 0
    },
    "id": "Sx6EW0xPTCu2"
   },
   "outputs": [],
   "source": [
    "total_raw_data = raw_data_noise+raw_data_signal"
   ]
  },
  {
   "cell_type": "code",
   "execution_count": 9,
   "id": "9wOsNFq1TMcW",
   "metadata": {
    "executionInfo": {
     "elapsed": 11,
     "status": "ok",
     "timestamp": 1647271106525,
     "user": {
      "displayName": "Josiah Suartono",
      "photoUrl": "https://lh3.googleusercontent.com/a/default-user=s64",
      "userId": "17696427710438250466"
     },
     "user_tz": 0
    },
    "id": "9wOsNFq1TMcW"
   },
   "outputs": [],
   "source": [
    "total_index = noise_index+signal_index"
   ]
  },
  {
   "cell_type": "code",
   "execution_count": 10,
   "id": "exX-MSYrporL",
   "metadata": {
    "executionInfo": {
     "elapsed": 11,
     "status": "ok",
     "timestamp": 1647271106525,
     "user": {
      "displayName": "Josiah Suartono",
      "photoUrl": "https://lh3.googleusercontent.com/a/default-user=s64",
      "userId": "17696427710438250466"
     },
     "user_tz": 0
    },
    "id": "exX-MSYrporL"
   },
   "outputs": [],
   "source": [
    "y = np.concatenate((noise_target,signal_target),axis=0)"
   ]
  },
  {
   "cell_type": "code",
   "execution_count": 11,
   "id": "6-fhGWCHptJz",
   "metadata": {
    "executionInfo": {
     "elapsed": 12,
     "status": "ok",
     "timestamp": 1647271106526,
     "user": {
      "displayName": "Josiah Suartono",
      "photoUrl": "https://lh3.googleusercontent.com/a/default-user=s64",
      "userId": "17696427710438250466"
     },
     "user_tz": 0
    },
    "id": "6-fhGWCHptJz"
   },
   "outputs": [],
   "source": [
    "y_class = [int(1) if tar is not None else int(0) for tar in y  ]"
   ]
  },
  {
   "cell_type": "code",
   "execution_count": 12,
   "id": "cEDBa6gc-yJk",
   "metadata": {
    "executionInfo": {
     "elapsed": 1357,
     "status": "ok",
     "timestamp": 1647271107872,
     "user": {
      "displayName": "Josiah Suartono",
      "photoUrl": "https://lh3.googleusercontent.com/a/default-user=s64",
      "userId": "17696427710438250466"
     },
     "user_tz": 0
    },
    "id": "cEDBa6gc-yJk"
   },
   "outputs": [],
   "source": [
    "index_ts = np.array(range(np.array(total_raw_data).shape[0])) "
   ]
  },
  {
   "cell_type": "markdown",
   "id": "i8rvpCQZc26I",
   "metadata": {
    "id": "i8rvpCQZc26I"
   },
   "source": [
    "# Training Model"
   ]
  },
  {
   "cell_type": "code",
   "execution_count": 241,
   "id": "CgTADbMIMo4Y",
   "metadata": {
    "executionInfo": {
     "elapsed": 246,
     "status": "ok",
     "timestamp": 1647281742938,
     "user": {
      "displayName": "Josiah Suartono",
      "photoUrl": "https://lh3.googleusercontent.com/a/default-user=s64",
      "userId": "17696427710438250466"
     },
     "user_tz": 0
    },
    "id": "CgTADbMIMo4Y"
   },
   "outputs": [],
   "source": [
    "def rolling_window_index():\n",
    "    rolling_window_index_a = []\n",
    "    window_size = 90\n",
    "    for a in range(0,1000-window_size,3):\n",
    "        rolling_window_index_a.append((a,a+window_size))\n",
    "    rolling_window_index_a = np.array(rolling_window_index_a)\n",
    "    rolling_window_index_b = []\n",
    "    window_size=45\n",
    "    for wind_ix in rolling_window_index_a:\n",
    "         wind_a_b = []\n",
    "         for b in range(wind_ix[0],wind_ix[1]-window_size,3):\n",
    "             wind_a_b.append((b,b+window_size))\n",
    "         rolling_window_index_b.append(wind_a_b)\n",
    "    rolling_window_index_b = np.array(rolling_window_index_b)\n",
    "    rolling_window_index_c = []\n",
    "    window_size=25\n",
    "    for ix , b in enumerate(rolling_window_index_b):\n",
    "        wind_a_b_c = []\n",
    "        for wind_ix_b in b:\n",
    "            wind_a_b = []\n",
    "            for c in range(wind_ix_b[0],wind_ix_b[1]-window_size,3):\n",
    "                wind_a_b.append((c,c+window_size))\n",
    "            wind_a_b_c.append(wind_a_b)\n",
    "        rolling_window_index_c.append(wind_a_b_c)\n",
    "    rolling_window_index_c = np.array(rolling_window_index_c)\n",
    "    return (rolling_window_index_a,rolling_window_index_b,rolling_window_index_c)\n",
    "\n",
    "def get_f1(y_true, y_pred): #taken from old keras source code\n",
    "    true_positives = K.sum(K.round(K.clip(y_true * y_pred, 0, 1)))\n",
    "    possible_positives = K.sum(K.round(K.clip(y_true, 0, 1)))\n",
    "    predicted_positives = K.sum(K.round(K.clip(y_pred, 0, 1)))\n",
    "    precision = true_positives / (predicted_positives + K.epsilon())\n",
    "    recall = true_positives / (possible_positives + K.epsilon())\n",
    "    f1_val = 2*(precision*recall)/(precision+recall+K.epsilon())\n",
    "    return f1_val\n",
    "\n",
    "def modelA(X_train,y_train):\n",
    "    model = Sequential()\n",
    "    model.add(Conv2D(20,kernel_size = (20,2),activation = 'relu',padding = 'same', input_shape = (304,90,2)))\n",
    "    model.add(Dropout(0.2))\n",
    "    model.add(Conv2D(10,kernel_size = (30,1),activation = 'relu',padding = 'same'))\n",
    "    model.add(Dropout(0.2))\n",
    "    model.add(Flatten())\n",
    "    model.add(Dense(200,activation='relu'))\n",
    "    model.add(Dropout(0.2))\n",
    "    model.add(Dense(304,activation = 'sigmoid'))\n",
    "    model.compile(loss=tf.keras.losses.BinaryCrossentropy(),optimizer='adam',metrics=[\"accuracy\"])\n",
    "    callback = EarlyStopping(monitor='loss', patience=5)\n",
    "    model.fit(X_train,y_train,epochs = 10, shuffle = True, callbacks = [callback],validation_split = 0.1)\n",
    "    model.save(\"modelA.h5\")\n",
    "    \n",
    "\n",
    "def modelB(X_train,y_train):\n",
    " \n",
    "    model = Sequential()\n",
    "    model.add(Conv2D(20,kernel_size = (5,2),activation = 'relu',padding = 'same', input_shape = (15,45,2)))\n",
    "    model.add(Dropout(0.2))\n",
    "    model.add(Conv2D(10,kernel_size = (10,1),activation = 'relu',padding = 'same'))\n",
    "    model.add(Dropout(0.2))\n",
    "    model.add(Flatten())\n",
    "    model.add(Dense(200,activation='relu'))\n",
    "    model.add(Dropout(0.2))\n",
    "    model.add(Dense(15,activation = 'sigmoid'))  # Add number of windows\n",
    "    model.compile(loss=tf.keras.losses.BinaryCrossentropy(),optimizer='adam',metrics=[\"accuracy\"])\n",
    "    callback = EarlyStopping(monitor='loss', patience=5)\n",
    "    model.fit(X_train,y_train,epochs = 10, shuffle = True, callbacks = [callback],validation_split = 0.1)\n",
    "    model.save(\"modelB.h5\")\n",
    "\n",
    "def model_picker(X_train,y_train):\n",
    "    model = Sequential()\n",
    "    model.add(Conv2D(20,kernel_size = (3,2),activation = 'relu',padding = 'same', input_shape = (7,25,2)))\n",
    "    model.add(Dropout(0.2))\n",
    "    model.add(Conv2D(10,kernel_size = (5,1),activation = 'relu',padding = 'same'))\n",
    "    model.add(Dropout(0.2))\n",
    "    model.add(Flatten())\n",
    "    model.add(Dense(200,activation='relu'))\n",
    "    model.add(Dropout(0.2))\n",
    "    model.add(Dense(7,activation = 'sigmoid'))  # Add \n",
    "    model.compile(loss=tf.keras.losses.BinaryCrossentropy(),optimizer='adam',metrics=[\"accuracy\"])\n",
    "    callback = EarlyStopping(monitor='loss', patience=5)\n",
    "    model.fit(X_train,y_train,epochs = 10, shuffle = True, callbacks = [callback],validation_split = 0.1)\n",
    "    model.save(\"model_picker.h5\")\n",
    "\n",
    "def get_windowA(rolling_window_index_a,total_raw_data):\n",
    "    window_A = []\n",
    "    for tr in total_raw_data:\n",
    "        ts_win_a = []\n",
    "        for win_ix in rolling_window_index_a:\n",
    "            original = tr.data[win_ix[0]:win_ix[1]]\n",
    "            freq_domain = dct(original)\n",
    "            original_scaled = tr.normalize().data[win_ix[0]:win_ix[1]]\n",
    "            freq_scaled = (freq_domain - np.mean(freq_domain, axis=0)) / np.std(freq_domain, axis=0)\n",
    "            ts_win_a.append(np.concatenate([original_scaled,dct(freq_scaled)]))\n",
    "        window_A.append(ts_win_a)\n",
    "    window_A = np.array(window_A)\n",
    "    window_A = window_A.reshape(-1,304,90,2)\n",
    "    return window_A\n",
    "\n",
    "def windowA_target(total_index,rolling_window_index_a):\n",
    "    y_train_window_bool = []\n",
    "    for ix in total_index:\n",
    "         if ix is None:\n",
    "             y_train_window_bool.append(np.zeros((304)))\n",
    "         else:\n",
    "              y_train_window_bool.append(np.array([1 if ix>wind_ix[0] and ix<wind_ix[1] else 0 for wind_ix in rolling_window_index_a]))\n",
    "    y_train_window_bool = np.array(y_train_window_bool)\n",
    "    return y_train_window_bool\n",
    "\n",
    "def windowA_pred(total_raw_data):\n",
    "\n",
    "    model = tf.keras.models.load_model('modelA.h5')\n",
    "    pred = model.predict(total_raw_data)\n",
    "    threshold = 0.7 # after smote will work better\n",
    "    pred_label = []\n",
    "    chosen_index_a = []\n",
    "    ts_ix = []\n",
    "    for ix,pred_wind in enumerate(pred):\n",
    "        if max(pred_wind)>threshold: # for futrue improvement, get the total vote count for pwave\n",
    "            pred_label.append(1)\n",
    "            chosen_index_a.append(np.where(pred_wind == np.amax(pred_wind))[0][0])\n",
    "            ts_ix.append(ix)\n",
    "        else:\n",
    "            pred_label.append(0)\n",
    "            chosen_index_a.append(None)\n",
    "    pred_label = np.array(pred_label)\n",
    "    chosen_index_a = np.array(chosen_index_a)\n",
    "    ts_ix = np.array(ts_ix)\n",
    "    return (ts_ix,chosen_index_a,pred_label)\n",
    "\n",
    "def get_windowB(ts_ix,chosen_index_a,pred_label,X_train,rolling_window_index_b,window_A):\n",
    "    window_B = []\n",
    "    a_ix = chosen_index_a[pred_label==1] # out of 225 windows\n",
    "    for ix, tr in enumerate(X_train[pred_label==1]):\n",
    "        ts_win_b = []\n",
    "        chosen_wind_a = window_A[ts_ix[ix],a_ix[ix],:,0] # take only the time domain\n",
    "        for win_ix in rolling_window_index_b[0,:,:]:\n",
    "            original = chosen_wind_a[win_ix[0]:win_ix[1]]\n",
    "            freq_domain = dct(original)\n",
    "            original_scaled = (original - np.mean(original, axis=0)) / np.std(original, axis=0)\n",
    "            freq_scaled = (freq_domain - np.mean(freq_domain, axis=0)) / np.std(freq_domain, axis=0)\n",
    "            ts_win_b.append(np.concatenate([original_scaled,dct(freq_scaled)]))  \n",
    "        window_B.append(ts_win_b)\n",
    "    window_B = np.array(window_B)\n",
    "    window_B = window_B.reshape(-1,15,45,2)\n",
    "    return (window_B,a_ix) \n",
    "\n",
    "def windowB_target(ts_ix,chosen_ix_train,total_index,a_ix,rolling_window_index_b):\n",
    "    y_train_window_b_bool = []\n",
    "    for count, row in enumerate(ts_ix):\n",
    "        row_bool = []\n",
    "        pwave_index = total_index[chosen_ix_train[row]]\n",
    "        if pwave_index is None:\n",
    "           y_train_window_b_bool.append(np.zeros(15))\n",
    "        else:\n",
    "             y_train_window_b_bool.append(np.array([1 if pwave_index>wind_ix[0] and pwave_index<wind_ix[1] else 0 for wind_ix in rolling_window_index_b[a_ix[count]]]))\n",
    "    y_train_window_b_bool = np.array(y_train_window_b_bool)\n",
    "    return y_train_window_b_bool\n",
    "\n",
    "def windowB_pred(X_test):\n",
    "\n",
    "    model = tf.keras.models.load_model('modelB.h5')  \n",
    "    pred_b = model.predict(X_test)\n",
    "    b_ix = []\n",
    "    for ix,pred_wind in enumerate(pred_b):\n",
    "        b_ix.append(np.where(pred_wind == np.amax(pred_wind))[0][0])\n",
    "    b_ix = np.array(b_ix)  \n",
    "    return b_ix   \n",
    "\n",
    "def get_windowC(b_ix,window_B,rolling_window_index_c):\n",
    "    window_C = []\n",
    "    for ix, row in enumerate(window_B):\n",
    "        ts_win_c = []\n",
    "        chosen_wind_b = row[b_ix[ix],:,0]\n",
    "        for win_ix in rolling_window_index_c[0,0,:,:]: # Check this\n",
    "            original = chosen_wind_b[win_ix[0]:win_ix[1]]\n",
    "            freq_domain = dct(original)\n",
    "            original_scaled = (original - np.mean(original, axis=0)) / np.std(original, axis=0)\n",
    "            freq_scaled = (freq_domain - np.mean(freq_domain, axis=0)) / np.std(freq_domain, axis=0)\n",
    "            ts_win_c.append(np.concatenate([original_scaled,dct(freq_scaled)]))  \n",
    "        window_C.append(ts_win_c)\n",
    "    window_C = np.array(window_C)\n",
    "    window_C = window_C.reshape(-1,7,25,2)\n",
    "    return window_C     \n",
    "\n",
    "def windowC_target(ts_ix,chosen_ix_train,total_index,a_ix,b_ix,rolling_window_index_c):\n",
    "    y_train_window_c_bool = []\n",
    "    for count, row in enumerate(ts_ix):\n",
    "        row_bool = []\n",
    "        pwave_index = total_index[chosen_ix_train[row]]\n",
    "        if pwave_index is None:\n",
    "           y_train_window_c_bool.append(np.zeros(7))\n",
    "        else:\n",
    "             y_train_window_c_bool.append(np.array([1 if pwave_index>wind_ix[0] and pwave_index<wind_ix[1] else 0 for wind_ix in rolling_window_index_c[a_ix[count],b_ix[count]]]))\n",
    "    y_train_window_c_bool = np.array(y_train_window_c_bool)\n",
    "    return y_train_window_c_bool    \n",
    "\n",
    "def windowC_pred(X_test):\n",
    "    model = tf.keras.models.load_model('model_picker.h5')\n",
    "    pred_c = model.predict(X_test)\n",
    "    c_ix = []\n",
    "    for ix,pred_wind in enumerate(pred_c):\n",
    "        c_ix.append(np.where(pred_wind == np.amax(pred_wind))[0][0])\n",
    "    c_ix = np.array(c_ix)\n",
    "    return c_ix\n",
    "\n",
    "\n",
    "def final_pred(pred_label,a_ix,b_ix,c_ix,rolling_window_index_c,total_raw_data,chosen_ix_train):\n",
    "    prediction = []\n",
    "    ticker = 0\n",
    "    for ix, x in enumerate(pred_label):\n",
    "        if x==1:\n",
    "          prediction.append(rolling_window_index_c[a_ix[ticker,],b_ix[ticker,],c_ix[ticker,],0])\n",
    "          ticker += 1\n",
    "        else:\n",
    "          prediction.append(None)\n",
    "\n",
    "    for ix , idx in enumerate(chosen_ix_train):\n",
    "        starttime = total_raw_data[idx].stats.starttime #\n",
    "        freq = total_raw_data[idx].stats.sampling_rate\n",
    "        if prediction[ix] is None:\n",
    "           continue\n",
    "        else:\n",
    "            prediction[ix] = starttime + prediction[ix]/freq\n",
    "\n",
    "    prediction = np.array(prediction)\n",
    "    return prediction\n",
    "\n",
    "def training(total_raw_data,total_index,chosen_ix_train):\n",
    "    rolling_window_index_a,rolling_window_index_b,rolling_window_index_c = rolling_window_index()\n",
    "    window_A = get_windowA(rolling_window_index_a,total_raw_data)\n",
    "    modelA(window_A,windowA_target(total_index,rolling_window_index_a)) # Fitting Model for window A\n",
    "    ts_ix,chosen_index_a,pred_label = windowA_pred(window_A)  # need to check this\n",
    "    window_B,a_ix = get_windowB(ts_ix,chosen_index_a,pred_label,window_A,rolling_window_index_b,window_A)\n",
    "    print(window_B.dtype)\n",
    "    del window_A\n",
    "    # window_B = tf.convert_to_tensor(window_B)\n",
    "    modelB(window_B,windowB_target(ts_ix,chosen_ix_train,total_index,a_ix,rolling_window_index_b)) # Need to check this\n",
    "    b_ix = windowB_pred(window_B)\n",
    "    window_C = get_windowC(b_ix,window_B,rolling_window_index_c)\n",
    "    del window_B\n",
    "    model_picker(window_C,windowC_target(ts_ix,chosen_ix_train,total_index,a_ix,b_ix,rolling_window_index_c))\n",
    "    c_ix = windowC_pred(window_C) # Need to Check\n",
    "    predictions = final_pred(pred_label,a_ix,b_ix,c_ix,rolling_window_index_c,total_raw_data,chosen_ix_train)\n",
    "    return predictions"
   ]
  },
  {
   "cell_type": "code",
   "execution_count": 257,
   "id": "B4MnGiAttvJ4",
   "metadata": {
    "executionInfo": {
     "elapsed": 24,
     "status": "ok",
     "timestamp": 1647281743181,
     "user": {
      "displayName": "Josiah Suartono",
      "photoUrl": "https://lh3.googleusercontent.com/a/default-user=s64",
      "userId": "17696427710438250466"
     },
     "user_tz": 0
    },
    "id": "B4MnGiAttvJ4"
   },
   "outputs": [],
   "source": [
    "# rolling_window_index_a,rolling_window_index_b,rolling_window_index_c = rolling_window_index()\n",
    "# window_A = get_windowA(rolling_window_index_a,total_raw_data)\n",
    "# modelA(window_A,windowA_target(total_index,rolling_window_index_a)) # Fitting Model for window A\n",
    "# ts_ix,chosen_index_a,pred_label = windowA_pred(window_A)  # need to check this\n",
    "# window_B,a_ix = get_windowB(ts_ix,chosen_index_a,pred_label,window_A,rolling_window_index_b,window_A)\n",
    "# print(window_B.dtype)"
   ]
  },
  {
   "cell_type": "code",
   "execution_count": 258,
   "id": "DxrPLcTbvhE2",
   "metadata": {
    "executionInfo": {
     "elapsed": 25,
     "status": "ok",
     "timestamp": 1647281743182,
     "user": {
      "displayName": "Josiah Suartono",
      "photoUrl": "https://lh3.googleusercontent.com/a/default-user=s64",
      "userId": "17696427710438250466"
     },
     "user_tz": 0
    },
    "id": "DxrPLcTbvhE2"
   },
   "outputs": [],
   "source": [
    "# windowB_target(ts_ix,index_ts,total_index,a_ix,rolling_window_index_b)"
   ]
  },
  {
   "cell_type": "code",
   "execution_count": 258,
   "id": "7ngV-kPevdDh",
   "metadata": {
    "executionInfo": {
     "elapsed": 24,
     "status": "ok",
     "timestamp": 1647281743182,
     "user": {
      "displayName": "Josiah Suartono",
      "photoUrl": "https://lh3.googleusercontent.com/a/default-user=s64",
      "userId": "17696427710438250466"
     },
     "user_tz": 0
    },
    "id": "7ngV-kPevdDh"
   },
   "outputs": [],
   "source": []
  },
  {
   "cell_type": "code",
   "execution_count": 259,
   "id": "gCrLW7e3A-cY",
   "metadata": {
    "colab": {
     "base_uri": "https://localhost:8080/"
    },
    "executionInfo": {
     "elapsed": 388501,
     "status": "ok",
     "timestamp": 1647282131659,
     "user": {
      "displayName": "Josiah Suartono",
      "photoUrl": "https://lh3.googleusercontent.com/a/default-user=s64",
      "userId": "17696427710438250466"
     },
     "user_tz": 0
    },
    "id": "gCrLW7e3A-cY",
    "outputId": "a55d9f4d-7de8-43ee-82a0-ae234ef96a82"
   },
   "outputs": [
    {
     "name": "stdout",
     "output_type": "stream",
     "text": [
      "Epoch 1/10\n",
      "175/175 [==============================] - 7s 38ms/step - loss: 0.2940 - accuracy: 0.0059 - val_loss: 0.0756 - val_accuracy: 0.0370\n",
      "Epoch 2/10\n",
      "175/175 [==============================] - 6s 37ms/step - loss: 0.0341 - accuracy: 0.0088 - val_loss: 0.0396 - val_accuracy: 0.0000e+00\n",
      "Epoch 3/10\n",
      "175/175 [==============================] - 6s 36ms/step - loss: 0.0189 - accuracy: 0.0021 - val_loss: 0.0325 - val_accuracy: 0.0064\n",
      "Epoch 4/10\n",
      "175/175 [==============================] - 6s 36ms/step - loss: 0.0151 - accuracy: 0.0038 - val_loss: 0.0280 - val_accuracy: 0.0016\n",
      "Epoch 5/10\n",
      "175/175 [==============================] - 6s 36ms/step - loss: 0.0132 - accuracy: 0.0034 - val_loss: 0.0350 - val_accuracy: 0.0129\n",
      "Epoch 6/10\n",
      "175/175 [==============================] - 6s 36ms/step - loss: 0.0118 - accuracy: 0.0039 - val_loss: 0.0257 - val_accuracy: 0.0177\n",
      "Epoch 7/10\n",
      "175/175 [==============================] - 6s 36ms/step - loss: 0.0105 - accuracy: 0.0041 - val_loss: 0.0266 - val_accuracy: 0.0177\n",
      "Epoch 8/10\n",
      "175/175 [==============================] - 6s 36ms/step - loss: 0.0092 - accuracy: 0.0043 - val_loss: 0.0243 - val_accuracy: 0.0064\n",
      "Epoch 9/10\n",
      "175/175 [==============================] - 6s 37ms/step - loss: 0.0090 - accuracy: 0.0050 - val_loss: 0.0264 - val_accuracy: 0.0209\n",
      "Epoch 10/10\n",
      "175/175 [==============================] - 6s 36ms/step - loss: 0.0091 - accuracy: 0.0039 - val_loss: 0.0273 - val_accuracy: 0.0209\n",
      "float64\n",
      "Epoch 1/10\n",
      "91/91 [==============================] - 1s 5ms/step - loss: 0.5950 - accuracy: 0.0501 - val_loss: 0.3784 - val_accuracy: 0.0247\n",
      "Epoch 2/10\n",
      "91/91 [==============================] - 0s 4ms/step - loss: 0.3848 - accuracy: 0.0519 - val_loss: 0.3364 - val_accuracy: 0.0648\n",
      "Epoch 3/10\n",
      "91/91 [==============================] - 0s 4ms/step - loss: 0.3460 - accuracy: 0.0632 - val_loss: 0.3157 - val_accuracy: 0.0463\n",
      "Epoch 4/10\n",
      "91/91 [==============================] - 0s 4ms/step - loss: 0.3159 - accuracy: 0.0453 - val_loss: 0.3180 - val_accuracy: 0.0494\n",
      "Epoch 5/10\n",
      "91/91 [==============================] - 0s 4ms/step - loss: 0.2986 - accuracy: 0.0560 - val_loss: 0.3228 - val_accuracy: 0.0617\n",
      "Epoch 6/10\n",
      "91/91 [==============================] - 0s 4ms/step - loss: 0.2800 - accuracy: 0.0546 - val_loss: 0.3103 - val_accuracy: 0.0556\n",
      "Epoch 7/10\n",
      "91/91 [==============================] - 0s 4ms/step - loss: 0.2753 - accuracy: 0.0539 - val_loss: 0.3264 - val_accuracy: 0.0586\n",
      "Epoch 8/10\n",
      "91/91 [==============================] - 0s 4ms/step - loss: 0.2595 - accuracy: 0.0580 - val_loss: 0.3339 - val_accuracy: 0.0586\n",
      "Epoch 9/10\n",
      "91/91 [==============================] - 0s 4ms/step - loss: 0.2486 - accuracy: 0.0491 - val_loss: 0.3286 - val_accuracy: 0.0556\n",
      "Epoch 10/10\n",
      "91/91 [==============================] - 0s 4ms/step - loss: 0.2360 - accuracy: 0.0495 - val_loss: 0.3388 - val_accuracy: 0.0494\n",
      "Epoch 1/10\n",
      "91/91 [==============================] - 1s 4ms/step - loss: 0.5723 - accuracy: 0.0735 - val_loss: 0.5722 - val_accuracy: 0.0895\n",
      "Epoch 2/10\n",
      "91/91 [==============================] - 0s 3ms/step - loss: 0.5137 - accuracy: 0.0690 - val_loss: 0.5707 - val_accuracy: 0.0833\n",
      "Epoch 3/10\n",
      "91/91 [==============================] - 0s 3ms/step - loss: 0.4974 - accuracy: 0.0690 - val_loss: 0.5527 - val_accuracy: 0.0926\n",
      "Epoch 4/10\n",
      "91/91 [==============================] - 0s 3ms/step - loss: 0.4839 - accuracy: 0.0690 - val_loss: 0.5514 - val_accuracy: 0.1049\n",
      "Epoch 5/10\n",
      "91/91 [==============================] - 0s 3ms/step - loss: 0.4751 - accuracy: 0.0790 - val_loss: 0.5449 - val_accuracy: 0.1049\n",
      "Epoch 6/10\n",
      "91/91 [==============================] - 0s 3ms/step - loss: 0.4619 - accuracy: 0.0797 - val_loss: 0.5457 - val_accuracy: 0.0926\n",
      "Epoch 7/10\n",
      "91/91 [==============================] - 0s 3ms/step - loss: 0.4570 - accuracy: 0.0742 - val_loss: 0.5334 - val_accuracy: 0.1019\n",
      "Epoch 8/10\n",
      "91/91 [==============================] - 0s 3ms/step - loss: 0.4471 - accuracy: 0.0762 - val_loss: 0.5417 - val_accuracy: 0.1111\n",
      "Epoch 9/10\n",
      "91/91 [==============================] - 0s 3ms/step - loss: 0.4367 - accuracy: 0.0793 - val_loss: 0.5480 - val_accuracy: 0.0926\n",
      "Epoch 10/10\n",
      "91/91 [==============================] - 0s 3ms/step - loss: 0.4265 - accuracy: 0.0762 - val_loss: 0.5486 - val_accuracy: 0.0864\n"
     ]
    }
   ],
   "source": [
    "pred = training(total_raw_data,total_index,index_ts)"
   ]
  },
  {
   "cell_type": "code",
   "execution_count": 260,
   "id": "nrrCK52WkhLc",
   "metadata": {
    "colab": {
     "base_uri": "https://localhost:8080/"
    },
    "executionInfo": {
     "elapsed": 41,
     "status": "ok",
     "timestamp": 1647282131661,
     "user": {
      "displayName": "Josiah Suartono",
      "photoUrl": "https://lh3.googleusercontent.com/a/default-user=s64",
      "userId": "17696427710438250466"
     },
     "user_tz": 0
    },
    "id": "nrrCK52WkhLc",
    "outputId": "2d3c5c2b-586c-4ed2-f246-26d0f2d2e9a3"
   },
   "outputs": [
    {
     "data": {
      "text/plain": [
       "6207"
      ]
     },
     "execution_count": 260,
     "metadata": {},
     "output_type": "execute_result"
    }
   ],
   "source": [
    "len(pred)"
   ]
  },
  {
   "cell_type": "code",
   "execution_count": 261,
   "id": "m5Pk5UPQklmk",
   "metadata": {
    "executionInfo": {
     "elapsed": 20,
     "status": "ok",
     "timestamp": 1647282131661,
     "user": {
      "displayName": "Josiah Suartono",
      "photoUrl": "https://lh3.googleusercontent.com/a/default-user=s64",
      "userId": "17696427710438250466"
     },
     "user_tz": 0
    },
    "id": "m5Pk5UPQklmk"
   },
   "outputs": [],
   "source": [
    "pred_1 = [1 if i != None else 0 for i in total_index]\n",
    "pred_2 = [1 if i != None else 0 for i in pred] "
   ]
  },
  {
   "cell_type": "code",
   "execution_count": 262,
   "id": "I6VnPmsvk5cn",
   "metadata": {
    "colab": {
     "base_uri": "https://localhost:8080/"
    },
    "executionInfo": {
     "elapsed": 20,
     "status": "ok",
     "timestamp": 1647282131662,
     "user": {
      "displayName": "Josiah Suartono",
      "photoUrl": "https://lh3.googleusercontent.com/a/default-user=s64",
      "userId": "17696427710438250466"
     },
     "user_tz": 0
    },
    "id": "I6VnPmsvk5cn",
    "outputId": "f1838879-fb43-4cef-ffe5-852fe3e4ff13"
   },
   "outputs": [
    {
     "name": "stdout",
     "output_type": "stream",
     "text": [
      "0.9895279523119059 0.98991153189508\n"
     ]
    }
   ],
   "source": [
    "from sklearn.metrics import accuracy_score,f1_score\n",
    "print(accuracy_score(pred_1,pred_2),f1_score(pred_1,pred_2)) "
   ]
  },
  {
   "cell_type": "markdown",
   "id": "yla3_53hOjwb",
   "metadata": {
    "id": "yla3_53hOjwb"
   },
   "source": [
    "# Testing on New Data"
   ]
  },
  {
   "cell_type": "code",
   "execution_count": 263,
   "id": "ec4Lwg8guWTl",
   "metadata": {
    "executionInfo": {
     "elapsed": 225,
     "status": "ok",
     "timestamp": 1647282364654,
     "user": {
      "displayName": "Josiah Suartono",
      "photoUrl": "https://lh3.googleusercontent.com/a/default-user=s64",
      "userId": "17696427710438250466"
     },
     "user_tz": 0
    },
    "id": "ec4Lwg8guWTl"
   },
   "outputs": [],
   "source": [
    "short_noise_paths_X = noise_paths[9102:10202]\n",
    "short_signal_paths_X = signal_paths[1102:1222]"
   ]
  },
  {
   "cell_type": "code",
   "execution_count": 264,
   "id": "O9Zy_lkeuWTn",
   "metadata": {
    "colab": {
     "base_uri": "https://localhost:8080/"
    },
    "executionInfo": {
     "elapsed": 9430,
     "status": "ok",
     "timestamp": 1647282374336,
     "user": {
      "displayName": "Josiah Suartono",
      "photoUrl": "https://lh3.googleusercontent.com/a/default-user=s64",
      "userId": "17696427710438250466"
     },
     "user_tz": 0
    },
    "id": "O9Zy_lkeuWTn",
    "outputId": "80541fb7-df0f-4614-d180-535bf07534c7"
   },
   "outputs": [
    {
     "name": "stderr",
     "output_type": "stream",
     "text": [
      " 14%|█▍        | 17/120 [00:00<00:01, 91.07it/s]"
     ]
    },
    {
     "name": "stdout",
     "output_type": "stream",
     "text": [
      "  Channel: BHZ, passing, not high-enough P wave S/N ratio (1.44)\n",
      "  Channel: BHZ, passing, not high-enough P wave S/N ratio (1.07)\n",
      "  Channel: BHY, passing, not high-enough P wave S/N ratio (1.02)\n",
      "  Channel: BHZ, passing, not high-enough P wave S/N ratio (1.12)\n",
      "  Channel: BHZ, passing, not high-enough P wave S/N ratio (1.32)\n",
      "  Channel: BHY, passing, not high-enough P wave S/N ratio (1.18)\n",
      "  Channel: BHZ, passing, not high-enough P wave S/N ratio (1.14)\n",
      "  Channel: BHZ, passing, not high-enough P wave S/N ratio (1.47)\n",
      "  Channel: BHY, passing, not high-enough P wave S/N ratio (1.31)\n",
      "  Channel: BHZ, passing, not high-enough P wave S/N ratio (0.98)\n"
     ]
    },
    {
     "name": "stderr",
     "output_type": "stream",
     "text": [
      " 36%|███▌      | 43/120 [00:00<00:00, 112.75it/s]"
     ]
    },
    {
     "name": "stdout",
     "output_type": "stream",
     "text": [
      "  Channel: BHZ, passing, not high-enough P wave S/N ratio (1.02)\n",
      "  Channel: BHZ, passing, not high-enough P wave S/N ratio (1.42)\n",
      "  Channel: BHY, passing, not high-enough P wave S/N ratio (1.19)\n",
      "  Channel: BHY, passing, not high-enough P wave S/N ratio (1.14)\n",
      "  Channel: BHY, passing, not high-enough P wave S/N ratio (1.08)\n",
      "  Channel: BHZ, passing, not high-enough P wave S/N ratio (1.48)\n",
      "  Channel: BHZ, passing, not high-enough P wave S/N ratio (0.87)\n",
      "  Channel: BHZ, passing, not high-enough P wave S/N ratio (1.22)\n",
      "  Channel: BHX, passing, not high-enough P wave S/N ratio (1.47)\n",
      "  Channel: BHZ, passing, not high-enough P wave S/N ratio (1.24)\n",
      "  Channel: BHY, passing, not high-enough P wave S/N ratio (1.28)\n",
      "  Channel: BHZ, passing, not high-enough P wave S/N ratio (1.42)\n"
     ]
    },
    {
     "name": "stderr",
     "output_type": "stream",
     "text": [
      " 71%|███████   | 85/120 [00:00<00:00, 129.55it/s]"
     ]
    },
    {
     "name": "stdout",
     "output_type": "stream",
     "text": [
      "  Channel: BHZ, passing, not high-enough P wave S/N ratio (0.97)\n",
      "  Channel: BHX, passing, not high-enough P wave S/N ratio (1.14)\n",
      "  Channel: BHZ, passing, not high-enough P wave S/N ratio (1.16)\n",
      "  Channel: BHY, passing, not high-enough P wave S/N ratio (1.30)\n",
      "  Channel: BHY, passing, not high-enough P wave S/N ratio (1.37)\n",
      "  Channel: BHZ, passing, not high-enough P wave S/N ratio (1.43)\n",
      "  Channel: BHY, passing, not high-enough P wave S/N ratio (1.30)\n",
      "  Channel: BHZ, passing, not high-enough P wave S/N ratio (1.16)\n",
      "  Channel: BHZ, passing, not high-enough P wave S/N ratio (1.36)\n",
      "  Channel: BHZ, passing, not high-enough P wave S/N ratio (1.50)\n",
      "  Channel: BHZ, passing, not high-enough P wave S/N ratio (1.04)\n",
      "  Channel: BHY, passing, not high-enough P wave S/N ratio (0.98)\n",
      "  Channel: BHZ, passing, not high-enough P wave S/N ratio (1.41)\n"
     ]
    },
    {
     "name": "stderr",
     "output_type": "stream",
     "text": [
      " 95%|█████████▌| 114/120 [00:00<00:00, 134.03it/s]"
     ]
    },
    {
     "name": "stdout",
     "output_type": "stream",
     "text": [
      "  Channel: BHY, passing, not high-enough P wave S/N ratio (1.20)\n",
      "  Channel: BHZ, passing, not high-enough P wave S/N ratio (1.30)\n",
      "  Channel: BHY, passing, not high-enough P wave S/N ratio (1.25)\n",
      "  Channel: BHZ, passing, not high-enough P wave S/N ratio (1.18)\n",
      "  Channel: BHZ, passing, not high-enough P wave S/N ratio (1.09)\n",
      "  Channel: BHX, passing, not high-enough P wave S/N ratio (1.43)\n",
      "  Channel: BHZ, passing, not high-enough P wave S/N ratio (0.89)\n",
      "  Channel: BHZ, passing, not high-enough P wave S/N ratio (1.40)\n",
      "  Channel: BHZ, passing, not high-enough P wave S/N ratio (1.35)\n",
      "  Channel: BHY, passing, not high-enough P wave S/N ratio (1.36)\n",
      "  Channel: BHZ, passing, not high-enough P wave S/N ratio (1.17)\n",
      "  Channel: BHY, passing, not high-enough P wave S/N ratio (1.14)\n",
      "  Channel: BHZ, passing, not high-enough P wave S/N ratio (1.34)\n",
      "  Channel: BHX, passing, not high-enough P wave S/N ratio (1.21)\n",
      "  Channel: BHY, passing, not high-enough P wave S/N ratio (0.99)\n"
     ]
    },
    {
     "name": "stderr",
     "output_type": "stream",
     "text": [
      "100%|██████████| 120/120 [00:00<00:00, 122.13it/s]\n",
      "100%|██████████| 1100/1100 [00:08<00:00, 130.36it/s]\n"
     ]
    }
   ],
   "source": [
    "raw_data_signal_test, signal_target_test, signal_index_test = read_data_from_disk(\"./data/signal\",short_signal_paths_X)\n",
    "raw_data_noise_test, noise_target_test, noise_index_test = read_data_from_disk(\"./data/noise\",short_noise_paths_X)"
   ]
  },
  {
   "cell_type": "code",
   "execution_count": 265,
   "id": "lDXcZaaPuWTo",
   "metadata": {
    "executionInfo": {
     "elapsed": 15,
     "status": "ok",
     "timestamp": 1647282374337,
     "user": {
      "displayName": "Josiah Suartono",
      "photoUrl": "https://lh3.googleusercontent.com/a/default-user=s64",
      "userId": "17696427710438250466"
     },
     "user_tz": 0
    },
    "id": "lDXcZaaPuWTo"
   },
   "outputs": [],
   "source": [
    "total_raw_data_test = raw_data_noise_test + raw_data_signal_test"
   ]
  },
  {
   "cell_type": "code",
   "execution_count": 266,
   "id": "1R0VKpLhuWTp",
   "metadata": {
    "executionInfo": {
     "elapsed": 16,
     "status": "ok",
     "timestamp": 1647282374338,
     "user": {
      "displayName": "Josiah Suartono",
      "photoUrl": "https://lh3.googleusercontent.com/a/default-user=s64",
      "userId": "17696427710438250466"
     },
     "user_tz": 0
    },
    "id": "1R0VKpLhuWTp"
   },
   "outputs": [],
   "source": [
    "total_index_test = noise_index_test + signal_index_test"
   ]
  },
  {
   "cell_type": "code",
   "execution_count": 267,
   "id": "NHUnqJjfuWTq",
   "metadata": {
    "executionInfo": {
     "elapsed": 1089,
     "status": "ok",
     "timestamp": 1647282375411,
     "user": {
      "displayName": "Josiah Suartono",
      "photoUrl": "https://lh3.googleusercontent.com/a/default-user=s64",
      "userId": "17696427710438250466"
     },
     "user_tz": 0
    },
    "id": "NHUnqJjfuWTq"
   },
   "outputs": [],
   "source": [
    "index_ts_test = np.array(range(np.array(total_raw_data_test).shape[0])) "
   ]
  },
  {
   "cell_type": "code",
   "execution_count": 275,
   "id": "w0lCOQW8Olle",
   "metadata": {
    "executionInfo": {
     "elapsed": 243,
     "status": "ok",
     "timestamp": 1647282880252,
     "user": {
      "displayName": "Josiah Suartono",
      "photoUrl": "https://lh3.googleusercontent.com/a/default-user=s64",
      "userId": "17696427710438250466"
     },
     "user_tz": 0
    },
    "id": "w0lCOQW8Olle"
   },
   "outputs": [],
   "source": [
    "def testing(total_raw_data,total_index,chosen_ix_train):\n",
    "    rolling_window_index_a,rolling_window_index_b,rolling_window_index_c = rolling_window_index()\n",
    "    window_A = get_windowA(rolling_window_index_a,total_raw_data)\n",
    "    ts_ix,chosen_index_a,pred_label = windowA_pred(window_A)  # need to check this\n",
    "    window_B,a_ix = get_windowB(ts_ix,chosen_index_a,pred_label,window_A,rolling_window_index_b,window_A)\n",
    "    b_ix = windowB_pred(window_B)\n",
    "    window_C = get_windowC(b_ix,window_B,rolling_window_index_c)\n",
    "    c_ix = windowC_pred(window_C) # Need to Check\n",
    "    predictions = final_pred(pred_label,a_ix,b_ix,c_ix,rolling_window_index_c,total_raw_data,chosen_ix_train)\n",
    "    return predictions"
   ]
  },
  {
   "cell_type": "code",
   "execution_count": 276,
   "id": "4q8Iu3doabIx",
   "metadata": {
    "executionInfo": {
     "elapsed": 174505,
     "status": "ok",
     "timestamp": 1647283056342,
     "user": {
      "displayName": "Josiah Suartono",
      "photoUrl": "https://lh3.googleusercontent.com/a/default-user=s64",
      "userId": "17696427710438250466"
     },
     "user_tz": 0
    },
    "id": "4q8Iu3doabIx"
   },
   "outputs": [],
   "source": [
    "predictions = testing(total_raw_data_test,total_index_test,index_ts_test)"
   ]
  },
  {
   "cell_type": "code",
   "execution_count": 277,
   "id": "H9l6iwkavsQ_",
   "metadata": {
    "executionInfo": {
     "elapsed": 44,
     "status": "ok",
     "timestamp": 1647283056343,
     "user": {
      "displayName": "Josiah Suartono",
      "photoUrl": "https://lh3.googleusercontent.com/a/default-user=s64",
      "userId": "17696427710438250466"
     },
     "user_tz": 0
    },
    "id": "H9l6iwkavsQ_"
   },
   "outputs": [],
   "source": [
    "pred_1 = [1 if i != None else 0 for i in total_index_test]\n",
    "pred_2 = [1 if i != None else 0 for i in predictions] "
   ]
  },
  {
   "cell_type": "code",
   "execution_count": 278,
   "id": "M1atlmk4vsRV",
   "metadata": {
    "colab": {
     "base_uri": "https://localhost:8080/"
    },
    "executionInfo": {
     "elapsed": 25,
     "status": "ok",
     "timestamp": 1647283056343,
     "user": {
      "displayName": "Josiah Suartono",
      "photoUrl": "https://lh3.googleusercontent.com/a/default-user=s64",
      "userId": "17696427710438250466"
     },
     "user_tz": 0
    },
    "id": "M1atlmk4vsRV",
    "outputId": "5a6c4d4d-78bc-4b72-fd06-79dcb0246bbe"
   },
   "outputs": [
    {
     "name": "stdout",
     "output_type": "stream",
     "text": [
      "0.981994459833795 0.9025487256371815\n"
     ]
    }
   ],
   "source": [
    "from sklearn.metrics import accuracy_score,f1_score\n",
    "print(accuracy_score(pred_1,pred_2),f1_score(pred_1,pred_2)) "
   ]
  },
  {
   "cell_type": "code",
   "execution_count": 279,
   "id": "zUMW5x8Jvutq",
   "metadata": {
    "colab": {
     "base_uri": "https://localhost:8080/"
    },
    "executionInfo": {
     "elapsed": 19,
     "status": "ok",
     "timestamp": 1647283056344,
     "user": {
      "displayName": "Josiah Suartono",
      "photoUrl": "https://lh3.googleusercontent.com/a/default-user=s64",
      "userId": "17696427710438250466"
     },
     "user_tz": 0
    },
    "id": "zUMW5x8Jvutq",
    "outputId": "04b5a41f-683b-4fb0-f2ed-5541c5dea950"
   },
   "outputs": [
    {
     "data": {
      "text/plain": [
       "6207"
      ]
     },
     "execution_count": 279,
     "metadata": {},
     "output_type": "execute_result"
    }
   ],
   "source": [
    "len(pred)"
   ]
  },
  {
   "cell_type": "code",
   "execution_count": 280,
   "id": "a2o7izRLnHfI",
   "metadata": {
    "colab": {
     "base_uri": "https://localhost:8080/"
    },
    "executionInfo": {
     "elapsed": 16,
     "status": "ok",
     "timestamp": 1647283056344,
     "user": {
      "displayName": "Josiah Suartono",
      "photoUrl": "https://lh3.googleusercontent.com/a/default-user=s64",
      "userId": "17696427710438250466"
     },
     "user_tz": 0
    },
    "id": "a2o7izRLnHfI",
    "outputId": "77870596-b042-4fa3-a5f4-a4895ea41236"
   },
   "outputs": [
    {
     "data": {
      "text/plain": [
       "3610"
      ]
     },
     "execution_count": 280,
     "metadata": {},
     "output_type": "execute_result"
    }
   ],
   "source": [
    "len(predictions)"
   ]
  },
  {
   "cell_type": "code",
   "execution_count": 273,
   "id": "HP7Djk52nJDZ",
   "metadata": {
    "executionInfo": {
     "elapsed": 13,
     "status": "ok",
     "timestamp": 1647282556433,
     "user": {
      "displayName": "Josiah Suartono",
      "photoUrl": "https://lh3.googleusercontent.com/a/default-user=s64",
      "userId": "17696427710438250466"
     },
     "user_tz": 0
    },
    "id": "HP7Djk52nJDZ"
   },
   "outputs": [],
   "source": []
  }
 ],
 "metadata": {
  "accelerator": "GPU",
  "colab": {
   "collapsed_sections": [
    "4e386oq2cklE",
    "yla3_53hOjwb"
   ],
   "machine_shape": "hm",
   "name": "Copy of Copy of CNN_Afreen.ipynb",
   "provenance": [
    {
     "file_id": "1Xdg2NomLXfwGJR2QwI42nBDdvuIgOI2F",
     "timestamp": 1647026704761
    }
   ]
  },
  "kernelspec": {
   "display_name": "Python 3 (ipykernel)",
   "language": "python",
   "name": "python3"
  },
  "language_info": {
   "codemirror_mode": {
    "name": "ipython",
    "version": 3
   },
   "file_extension": ".py",
   "mimetype": "text/x-python",
   "name": "python",
   "nbconvert_exporter": "python",
   "pygments_lexer": "ipython3",
   "version": "3.9.2"
  }
 },
 "nbformat": 4,
 "nbformat_minor": 5
}
